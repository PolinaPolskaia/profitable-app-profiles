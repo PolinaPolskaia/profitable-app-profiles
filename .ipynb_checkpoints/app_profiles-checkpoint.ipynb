{
 "cells": [
  {
   "cell_type": "markdown",
   "id": "1f6d76fe-db23-4e5b-8422-b36ef10378c8",
   "metadata": {},
   "source": [
    "# Profitable App Profiles for the App Store and Google Play Markets"
   ]
  },
  {
   "cell_type": "markdown",
   "id": "b2a7abbf-41cb-4a5e-992f-bf022a4100fc",
   "metadata": {},
   "source": [
    "![Image](https://encrypted-tbn0.gstatic.com/images?q=tbn:ANd9GcTZMG2LTP5xD1lZ9SxeiWuql2IJdUG9ct4Ukg&usqp=CAU)"
   ]
  },
  {
   "cell_type": "markdown",
   "id": "2b34237e-4f3a-4773-bd8f-f360166fe7ce",
   "metadata": {
    "tags": []
   },
   "source": [
    "Table of Contents\n",
    "=================\n",
    "\n",
    "   * [1. Project Overview](#chapter1)\n",
    "   * [2. Getting Started](#chapter2)\n",
    "       * [2.1 Importing relevant libraries and checking their versions](#chapter2.1)\n",
    "       * [2.2 Reading in datasets as lists of lists](#chapter2.2)\n",
    "       * [2.3 Sneak peek at the datasets](#chapter2.3)\n",
    "       \n",
    "       \n",
    "   * [3. Data Cleaning](#chapter3)\n",
    "       * [3.1 Removing inaccurate data](#chapter3.1)\n",
    "       * [3.2 Removing duplicate entries](#chapter3.2)\n",
    "       * [3.3 Removing non-English apps](#chapter3.3)\n",
    "       * [3.3 Isolating the free apps](#chapter3.4)\n",
    "       \n",
    "     \n",
    "   * [4. Data Analysis](#chapter4)\n",
    "       * [4.1 Most common apps by genre](#chapter4.1)\n",
    "       * [4.2 Most Popular Apps by Genre on the App Store](#chapter4.2)\n",
    "       * [4.3 Most Popular Apps by Genre on Google Play](#chapter4.3)\n",
    "       * [3.3 Isolating the free apps](#chapter3.4)\n",
    "       \n",
    "   * [4. Conclusion](#-4.-Conclusion))"
   ]
  },
  {
   "cell_type": "markdown",
   "id": "007bd0a7-bdbf-4e45-a14b-20f2aaacb7ef",
   "metadata": {},
   "source": [
    "## 1. Project Overview <a class=\"anchor\" id=\"chapter1\"></a>"
   ]
  },
  {
   "cell_type": "markdown",
   "id": "989db1bf-0cb6-4053-8400-b307bfb4c755",
   "metadata": {},
   "source": [
    "This is a data cleaning and analysis project. \n",
    "\n",
    "Our aim is to find mobile apps that are profitable for the App Store and Google Play markets and recommend an app profile that can be profitable for both markets.\n",
    "\n",
    "For this project, we'll pretend we're working as data analysts for a company that builds Android and iOS mobile apps. We make our apps available on Google Play and in the App Store.\n",
    "\n",
    "We only build apps that are free to download and install, and our primary source of revenue consists of in-app ads. This means that the number of users of our apps determines our revenue for any given app — the more users who see and engage with the ads, the better. Our goal for this project is to analyze data to help our developers understand what type of apps are likely to attract more users.\n",
    "\n",
    "*We did not use Numpy or Pandas libraries here to showcase data cleaning skills when working with lists of lists.*"
   ]
  },
  {
   "cell_type": "markdown",
   "id": "6e0c5af9-cb06-4cc8-96ed-09abafaeed32",
   "metadata": {},
   "source": [
    "## 2. Getting started <a class=\"anchor\" id=\"chapter2\"></a>"
   ]
  },
  {
   "cell_type": "markdown",
   "id": "5735370c-6d5e-4887-a7de-97f16e00ddec",
   "metadata": {},
   "source": [
    "### 2.1 Importing relevant libraries and checking their versions <a class=\"anchor\" id=\"chapter2.1\"></a>"
   ]
  },
  {
   "cell_type": "code",
   "execution_count": 1,
   "id": "d9a36c77-a784-466a-a431-ee7ee6c9fa9f",
   "metadata": {},
   "outputs": [],
   "source": [
    "# Importing libraries\n",
    "import requests\n",
    "from csv import reader"
   ]
  },
  {
   "cell_type": "code",
   "execution_count": 2,
   "id": "eab37ba2-8ee8-4873-b9fc-17d68eb6ad82",
   "metadata": {},
   "outputs": [
    {
     "name": "stdout",
     "output_type": "stream",
     "text": [
      "Python implementation: CPython\n",
      "Python version       : 3.9.7\n",
      "IPython version      : 7.29.0\n",
      "\n",
      "requests: 2.26.0\n",
      "csv     : 1.0\n",
      "\n"
     ]
    }
   ],
   "source": [
    "# Printing verions of Python modules and packages with watermark - the IPython magic extension.\n",
    "%load_ext watermark\n",
    "\n",
    "%watermark -v -p requests,csv"
   ]
  },
  {
   "cell_type": "markdown",
   "id": "602d7fcf-fc62-457c-af6d-4b24ff36f99b",
   "metadata": {},
   "source": [
    "### 2.2 Reading in datasets as lists of lists <a class=\"anchor\" id=\"chapter2.2\"></a>"
   ]
  },
  {
   "cell_type": "markdown",
   "id": "43c67cf1-62c6-4184-a7cf-8d9eec30e036",
   "metadata": {},
   "source": [
    "As of 1st quarter of 2021, there were approximately 2 million iOS apps available on the App Store, and 3.5 million Android apps on Google Play[<sup>1</sup>](#fn1).\n",
    "\n",
    "Collecting data for over 4 million apps requires a significant amount of time and money, so we'll try to analyze a sample of the data instead. To avoid spending resources on collecting new data ourselves, we should first try to see if we can find any relevant existing data at no cost. Luckily, here are two data sets that seem suitable for our goals:\n",
    "\n",
    "* [A dataset](https://www.kaggle.com/lava18/google-play-store-apps) containing data about approximately 10,000 Android apps from Google Play; the data was collected in August 2018. You can download the data set directly from this [link](https://dq-content.s3.amazonaws.com/350/googleplaystore.csv).\n",
    "* [A dataset](https://www.kaggle.com/ramamet4/app-store-apple-data-set-10k-apps) containing data about approximately 7,000 iOS apps from the App Store; the data was collected in July 2017. You can download the data set directly from this [link](https://dq-content.s3.amazonaws.com/350/AppleStore.csv)."
   ]
  },
  {
   "cell_type": "markdown",
   "id": "42cbae43-61a9-4239-836d-e14ad6450c06",
   "metadata": {},
   "source": [
    "Now, we will define a function `open_data` to import the two datasets we mentioned above and save them as *list of lists*."
   ]
  },
  {
   "cell_type": "code",
   "execution_count": 3,
   "id": "9c9a553c-e6f9-43d8-a9a2-985c6fe31aad",
   "metadata": {},
   "outputs": [],
   "source": [
    "# Saving links as variables\n",
    "url_android = 'https://dq-content.s3.amazonaws.com/350/googleplaystore.csv'\n",
    "url_ios = 'https://dq-content.s3.amazonaws.com/350/AppleStore.csv'\n",
    "\n",
    "# Defining the `open_data` function\n",
    "def open_data(filename):\n",
    "    \"\"\"\n",
    "    This function takes in a link to a csv file as input and \n",
    "    returns dataset in the list of lists format as output\n",
    "    \"\"\"\n",
    "    with requests.Session() as s:\n",
    "        response = s.get(filename)\n",
    "        decoded_content = response.content.decode('utf-8')\n",
    "        read_file = reader(decoded_content.splitlines(), delimiter=',')\n",
    "        return list(read_file)\n",
    "    \n",
    "\n",
    "# Loading both datasets\n",
    "android = open_data(url_android)   \n",
    "android_header = android[0]\n",
    "android = android[1:]\n",
    "\n",
    "ios = open_data(url_ios) \n",
    "ios_header = ios[0]\n",
    "ios = ios[1:]"
   ]
  },
  {
   "cell_type": "markdown",
   "id": "f9c6a4f1-68d2-4cd2-a942-53f3d508f2c2",
   "metadata": {},
   "source": [
    "### 2.3 Sneak peek at the datasets <a class=\"anchor\" id=\"chapter2.3\"></a>"
   ]
  },
  {
   "cell_type": "markdown",
   "id": "ce080a05-ec86-4612-9613-d360d4f8fa1f",
   "metadata": {},
   "source": [
    "Let's print the column names and take a look at the data dictionaries to try to identify the columns that could help us with our analysis."
   ]
  },
  {
   "cell_type": "code",
   "execution_count": 4,
   "id": "8b88be13-4d7b-4773-a8e9-c33a46503c09",
   "metadata": {},
   "outputs": [
    {
     "name": "stdout",
     "output_type": "stream",
     "text": [
      "['App', 'Category', 'Rating', 'Reviews', 'Size', 'Installs', 'Type', 'Price', 'Content Rating', 'Genres', 'Last Updated', 'Current Ver', 'Android Ver']\n"
     ]
    }
   ],
   "source": [
    "# Exploring the columns names for the Google Play dataset\n",
    "print(android_header)"
   ]
  },
  {
   "cell_type": "markdown",
   "id": "13f2f583-39dc-4ebf-80af-7ea5bc7c17a8",
   "metadata": {},
   "source": [
    "                                           Data Dictionary for the Google Play dataset\n",
    "---------------------------------------------\n",
    "| Column Name | Description | \n",
    "| ------------ | ------------- | \n",
    "| App | Application name | \n",
    "| Category | Category the app belongs to | \n",
    "| Rating | Overall user rating of the app (as when scraped) | \n",
    "| Reviews | Number of user reviews for the app (as when scraped) | \n",
    "| Size | Size of the app (as when scraped) |\n",
    "| Installs | Number of user downloads/installs for the app (as when scraped)  | \n",
    "| Type | Paid or Free |\n",
    "| Price | Price of the app (as when scraped) | \n",
    "| Content Rating | Age group the app is targeted at - Children / Mature 21+ / Adult |\n",
    "| Genres | An app can belong to multiple genres (apart from its main category). For eg, a musical family game will belong to Music, Game, Family genres. |\n",
    "| Last Updated | Date when the app was last updated on Play Store (as when scraped) |\n",
    "| Current Ver | Current version of the app available on Play Store (as when scraped) |\n",
    "| Android Ver | Min required Android version (as when scraped) |  \n"
   ]
  },
  {
   "cell_type": "code",
   "execution_count": 5,
   "id": "d9080222-942f-41d5-8979-a2c4392d62f6",
   "metadata": {},
   "outputs": [
    {
     "name": "stdout",
     "output_type": "stream",
     "text": [
      "['id', 'track_name', 'size_bytes', 'currency', 'price', 'rating_count_tot', 'rating_count_ver', 'user_rating', 'user_rating_ver', 'ver', 'cont_rating', 'prime_genre', 'sup_devices.num', 'ipadSc_urls.num', 'lang.num', 'vpp_lic']\n"
     ]
    }
   ],
   "source": [
    "# Exploring the columns names for the App Store dataset\n",
    "print(ios_header)"
   ]
  },
  {
   "cell_type": "markdown",
   "id": "8326591c-f2ea-4676-8931-f28d77da1a84",
   "metadata": {},
   "source": [
    "                                          Data Dictionary for the App Store dataset\n",
    "---------------------------------------------\n",
    "| Column Name | Description | \n",
    "| ------------ | ------------- | \n",
    "| id | App ID | \n",
    "| track_name | App Name | \n",
    "| size_bytes | Size (in Bytes) | \n",
    "| currency | Currency Type | \n",
    "| price | Price amount |\n",
    "| rating_count_tot | User Rating counts (for all version) | \n",
    "| rating_count_ver | User Rating counts (for current version) |\n",
    "| user_rating | Average User Rating value (for all version) | \n",
    "| user_rating_ver | Average User Rating value (for current version) |\n",
    "| ver | Latest version code |\n",
    "| cont_rating | Content Rating |\n",
    "| prime_genre | Primary Genre |\n",
    "| sup_devices.num | Number of supporting devices |  \n",
    "| ipadSc_urls.num | Number of screenshots showed for display |  \n",
    "| lang.num | Number of supported languages |  \n",
    "| vpp_lic | Vpp Device Based Licensing Enabled |  "
   ]
  },
  {
   "cell_type": "markdown",
   "id": "d4381c65-87c4-442b-9dbe-bb66bd0610d9",
   "metadata": {},
   "source": [
    "At a quick glance, the columns that might be useful for the purpose of our analysis are: `App` and `track_name`,  `Category` and `prime_genre`,  `Installs` and `rating_count_tot`, `Price` and `price`."
   ]
  },
  {
   "cell_type": "markdown",
   "id": "f5527ea4-9d16-488c-b9c1-f929c60d4a1b",
   "metadata": {},
   "source": [
    "To make it easier to explore the two datasets, we'll write a function named `explore_data()` that we can use repeatedly to explore rows in a more readable way. We'll also add an option for our function to show the number of rows and columns for any dataset."
   ]
  },
  {
   "cell_type": "code",
   "execution_count": 6,
   "id": "ff906e7a-abef-49fc-b760-d10b8d295e92",
   "metadata": {},
   "outputs": [],
   "source": [
    "# Defining the `explore_data` function\n",
    "def explore_data(dataset, start, end, rows_and_columns=False):\n",
    "    \"\"\"\n",
    "    This function loops through the slice of a dataset, \n",
    "    and for each iteration, prints a row and adds a new line after that row, \n",
    "    and prints the number of rows and columns if `rows_and_columns` is `True`\n",
    "    \"\"\"\n",
    "    dataset_slice = dataset[start:end]    \n",
    "    for row in dataset_slice:\n",
    "        print(row)\n",
    "        print('\\n') # adds a new (empty) line after each row\n",
    "\n",
    "    if rows_and_columns:\n",
    "        print('Number of rows:', len(dataset))\n",
    "        print('Number of columns:', len(dataset[0]))"
   ]
  },
  {
   "cell_type": "code",
   "execution_count": 7,
   "id": "739d07ef-d1d8-4665-a4d0-d88d7f33b843",
   "metadata": {},
   "outputs": [
    {
     "name": "stdout",
     "output_type": "stream",
     "text": [
      "Google Play Data\n",
      "\n",
      "\n",
      "['Photo Editor & Candy Camera & Grid & ScrapBook', 'ART_AND_DESIGN', '4.1', '159', '19M', '10,000+', 'Free', '0', 'Everyone', 'Art & Design', 'January 7, 2018', '1.0.0', '4.0.3 and up']\n",
      "\n",
      "\n",
      "['Coloring book moana', 'ART_AND_DESIGN', '3.9', '967', '14M', '500,000+', 'Free', '0', 'Everyone', 'Art & Design;Pretend Play', 'January 15, 2018', '2.0.0', '4.0.3 and up']\n",
      "\n",
      "\n",
      "['U Launcher Lite – FREE Live Cool Themes, Hide Apps', 'ART_AND_DESIGN', '4.7', '87510', '8.7M', '5,000,000+', 'Free', '0', 'Everyone', 'Art & Design', 'August 1, 2018', '1.2.4', '4.0.3 and up']\n",
      "\n",
      "\n",
      "Number of rows: 10841\n",
      "Number of columns: 13\n",
      "\n",
      "\n",
      "App Store Data\n",
      "\n",
      "\n",
      "['284882215', 'Facebook', '389879808', 'USD', '0.0', '2974676', '212', '3.5', '3.5', '95.0', '4+', 'Social Networking', '37', '1', '29', '1']\n",
      "\n",
      "\n",
      "['389801252', 'Instagram', '113954816', 'USD', '0.0', '2161558', '1289', '4.5', '4.0', '10.23', '12+', 'Photo & Video', '37', '0', '29', '1']\n",
      "\n",
      "\n",
      "['529479190', 'Clash of Clans', '116476928', 'USD', '0.0', '2130805', '579', '4.5', '4.5', '9.24.12', '9+', 'Games', '38', '5', '18', '1']\n",
      "\n",
      "\n",
      "Number of rows: 7197\n",
      "Number of columns: 16\n"
     ]
    }
   ],
   "source": [
    "# Exploring the first three rows of each dataset\n",
    "print('Google Play Data')\n",
    "print('\\n')\n",
    "explore_data(android, 0, 3, True)\n",
    "print('\\n')\n",
    "print('App Store Data')\n",
    "print('\\n')\n",
    "explore_data(ios, 0, 3, True)"
   ]
  },
  {
   "cell_type": "markdown",
   "id": "cc922d40-8a4e-453b-a964-c6a5c792d58a",
   "metadata": {},
   "source": [
    "## 3. Data Cleaning <a class=\"anchor\" id=\"chapter3\"></a>"
   ]
  },
  {
   "cell_type": "markdown",
   "id": "5151a1a1-45cb-4e15-ab28-24f3d99b0fb2",
   "metadata": {},
   "source": [
    "Before beginning our analysis, we need to make sure the data we analyze is accurate, or the results of our analysis will be wrong. This means that we need to do the following:\n",
    "\n",
    "* Detect inaccurate data, and correct or remove it.\n",
    "* Detect duplicate data, and remove the duplicates.\n",
    "\n",
    "Recall that at our company, we only build apps that are free to download and install, and we design them for an English-speaking audience. This means that we'll need to do the following:\n",
    "\n",
    "* Remove non-English apps like 爱奇艺PPS -《欢乐颂2》电视剧热播.\n",
    "* Remove apps that aren't free.\n",
    "\n",
    "Let's begin by detecting and deleting wrong data."
   ]
  },
  {
   "cell_type": "markdown",
   "id": "dad48b0b-6177-46b7-ac6b-71927405d1a1",
   "metadata": {},
   "source": [
    "### 3.1 Removing inaccurate data <a class=\"anchor\" id=\"chapter3.1\"></a>"
   ]
  },
  {
   "cell_type": "markdown",
   "id": "6133bb3c-f560-4a24-a9be-9623cb95e0d0",
   "metadata": {},
   "source": [
    "Let's check our datasets one by one to see if all of the rows in them have the same lengths. If some of the values are missing in a row, it will cause other values to shift left to the wrong column, which would be a problem. Of course, if the missing value is in the last column, it would be less problematic, but let's see what we have."
   ]
  },
  {
   "cell_type": "markdown",
   "id": "dda12f24-e81d-4981-95c8-be328b915bc9",
   "metadata": {},
   "source": [
    "We'll write a function named `check_lengths()` that we can repeatedly use to print out the rows whose length is not equal to a dataset's header row and the index for each of these rows."
   ]
  },
  {
   "cell_type": "code",
   "execution_count": 8,
   "id": "85ba06d1-ff51-4e01-8306-b2bc775b7b82",
   "metadata": {},
   "outputs": [],
   "source": [
    "# Defining the `check_lengths` function\n",
    "def check_lengths(dataset, dataset_header):\n",
    "    \"\"\"\n",
    "    This function prints out the rows whose length is not equal \n",
    "    to a dataset's header row and the index for each of these rows\n",
    "    \"\"\"\n",
    "    is_found = False\n",
    "    for row in dataset:\n",
    "        header_length = len(dataset_header)\n",
    "        row_length = len(row)\n",
    "        if row_length != header_length:\n",
    "            print(row)\n",
    "            print(dataset.index(row))\n",
    "            is_found = True\n",
    "    if not is_found:\n",
    "        print(\"All Good!\")"
   ]
  },
  {
   "cell_type": "code",
   "execution_count": 9,
   "id": "27a79a2d-b8e2-42ec-9c77-585a40c40690",
   "metadata": {},
   "outputs": [
    {
     "name": "stdout",
     "output_type": "stream",
     "text": [
      "['App', 'Category', 'Rating', 'Reviews', 'Size', 'Installs', 'Type', 'Price', 'Content Rating', 'Genres', 'Last Updated', 'Current Ver', 'Android Ver']\n",
      "\n",
      "\n",
      "['Life Made WI-Fi Touchscreen Photo Frame', '1.9', '19', '3.0M', '1,000+', 'Free', '0', 'Everyone', '', 'February 11, 2018', '1.0.19', '4.0 and up']\n",
      "10472\n"
     ]
    }
   ],
   "source": [
    "# Checking the row lenghts in the Google Play dataset\n",
    "print(android_header)\n",
    "print('\\n')\n",
    "check_lengths(android, android_header)"
   ]
  },
  {
   "cell_type": "markdown",
   "id": "f0512f05-afee-42ae-bef3-016d200048af",
   "metadata": {},
   "source": [
    "The output above shows that row *10472* is missing the `Category` column; therefore, all other values have been shifted left to the wrong column. \n",
    "Now, let's check the second dataset:"
   ]
  },
  {
   "cell_type": "code",
   "execution_count": 10,
   "id": "df5fac94-1a0e-4dd6-b972-284b7ac13001",
   "metadata": {},
   "outputs": [
    {
     "name": "stdout",
     "output_type": "stream",
     "text": [
      "['id', 'track_name', 'size_bytes', 'currency', 'price', 'rating_count_tot', 'rating_count_ver', 'user_rating', 'user_rating_ver', 'ver', 'cont_rating', 'prime_genre', 'sup_devices.num', 'ipadSc_urls.num', 'lang.num', 'vpp_lic']\n",
      "\n",
      "\n",
      "All Good!\n"
     ]
    }
   ],
   "source": [
    "# Checking the row lenghts in the App Store dataset\n",
    "print(ios_header)\n",
    "print('\\n')\n",
    "check_lengths(ios, ios_header)"
   ]
  },
  {
   "cell_type": "markdown",
   "id": "123fb2db-1c66-423b-9ce5-7713f2af208d",
   "metadata": {},
   "source": [
    "The App Store dataset does not have rows of a wrong lenghts.\n",
    "\n",
    "As the row *10472* misses the `Category` value, we'll remove this row. We put `if` clause so we can run this code more than once without deleting other rows. "
   ]
  },
  {
   "cell_type": "code",
   "execution_count": 11,
   "id": "099d0815-b553-4226-aabd-a1482c1b7ab9",
   "metadata": {},
   "outputs": [
    {
     "name": "stdout",
     "output_type": "stream",
     "text": [
      "New number of rows: 10840\n",
      "Number of columns: 13\n"
     ]
    }
   ],
   "source": [
    "# Deliting inaccurate row\n",
    "if android[10472][0]=='Life Made WI-Fi Touchscreen Photo Frame':\n",
    "    del android[10472]  \n",
    "print('New number of rows:',len(android))\n",
    "print('Number of columns:', len(android[0]))"
   ]
  },
  {
   "cell_type": "markdown",
   "id": "192653f2-7976-43c1-99d1-b26d75ee825e",
   "metadata": {},
   "source": [
    "### 3.2 Removing duplicate entries <a class=\"anchor\" id=\"chapter3.2\"></a>"
   ]
  },
  {
   "cell_type": "markdown",
   "id": "ace05d08-658f-42f1-8e88-6a0ce960863b",
   "metadata": {},
   "source": [
    "The Google Play dataset has a dedicated [discussion](https://www.kaggle.com/lava18/google-play-store-apps/discussion) section, and we can see that [one of the discussions](https://www.kaggle.com/lava18/google-play-store-apps/discussion/67894) raises a problem of some apps have duplicate entries.\n",
    "\n",
    "Let's write some code and confirm the data has duplicate entries."
   ]
  },
  {
   "cell_type": "code",
   "execution_count": 12,
   "id": "26ae68b0-ccb9-4bb8-89c2-1aff9147e92e",
   "metadata": {},
   "outputs": [
    {
     "name": "stdout",
     "output_type": "stream",
     "text": [
      "Number of duplicate apps in the Google Play dataset: 1181\n",
      "\n",
      "\n",
      "Examples of duplicate apps in the Google Play dataset: ['Free Blood Pressure', 'All Mental disorders', 'Nurse Grid', 'JH Blood Pressure Monitor', 'Blood Pressure', 'RT 516 VET', 'Anthem Anywhere', 'Sway Medical', \"fred's Pharmacy\", 'Breastfeeding Tracker Baby Log', 'Banfield Pet Health Tracker', '1800 Contacts - Lens Store', 'TextNow - free text + calls', 'Tumblr', 'Snapchat', 'Instagram', 'Periscope - Live Video', 'Snapchat', 'Instagram', 'Pinterest']\n"
     ]
    }
   ],
   "source": [
    "# Writing a loop to spot duplicate entries\n",
    "duplicate_apps = []\n",
    "unique_apps = []\n",
    "\n",
    "for app in android:\n",
    "    name = app[0]\n",
    "    if name in unique_apps:\n",
    "        duplicate_apps.append(name)\n",
    "    else:\n",
    "        unique_apps.append(name)\n",
    "    \n",
    "print('Number of duplicate apps in the Google Play dataset:', len(duplicate_apps))\n",
    "print('\\n')\n",
    "print('Examples of duplicate apps in the Google Play dataset:', duplicate_apps[530:550])"
   ]
  },
  {
   "cell_type": "markdown",
   "id": "34db4ef1-0eb8-4ca0-a989-ba15b6b51495",
   "metadata": {},
   "source": [
    "For the Google Play dataset, we have *1181* cases where an app occurs more than once. We don't want to count certain apps more than once when we analyze data, so we need to remove the duplicate entries and keep only one entry per app. To come up with a method of removing the duplicate rows, let's print the duplicate entries for a popular app and see which version is the most up-to-date."
   ]
  },
  {
   "cell_type": "code",
   "execution_count": 13,
   "id": "b69f8d14-ce31-4c09-9c45-5cf871469702",
   "metadata": {},
   "outputs": [
    {
     "name": "stdout",
     "output_type": "stream",
     "text": [
      "\n",
      " ['App', 'Category', 'Rating', 'Reviews', 'Size', 'Installs', 'Type', 'Price', 'Content Rating', 'Genres', 'Last Updated', 'Current Ver', 'Android Ver'] \n",
      "\n",
      "['Instagram', 'SOCIAL', '4.5', '66577313', 'Varies with device', '1,000,000,000+', 'Free', '0', 'Teen', 'Social', 'July 31, 2018', 'Varies with device', 'Varies with device']\n",
      "['Instagram', 'SOCIAL', '4.5', '66577446', 'Varies with device', '1,000,000,000+', 'Free', '0', 'Teen', 'Social', 'July 31, 2018', 'Varies with device', 'Varies with device']\n",
      "['Instagram', 'SOCIAL', '4.5', '66577313', 'Varies with device', '1,000,000,000+', 'Free', '0', 'Teen', 'Social', 'July 31, 2018', 'Varies with device', 'Varies with device']\n",
      "['Instagram', 'SOCIAL', '4.5', '66509917', 'Varies with device', '1,000,000,000+', 'Free', '0', 'Teen', 'Social', 'July 31, 2018', 'Varies with device', 'Varies with device']\n"
     ]
    }
   ],
   "source": [
    "# Taking a closer look at duplicate entries for the Instagram app\n",
    "\n",
    "print('\\n',android_header,'\\n') \n",
    "\n",
    "for app in android:\n",
    "    name = app[0]\n",
    "    if name == 'Instagram':\n",
    "        print(app)"
   ]
  },
  {
   "cell_type": "markdown",
   "id": "61ba77e9-e4d4-4eb7-9f32-cfa413abb63d",
   "metadata": {},
   "source": [
    "If you examine the rows we printed for the Instagram app, the main difference happens on the fourth position of each row, which corresponds to the number of reviews. The different numbers show the data was collected at different times."
   ]
  },
  {
   "cell_type": "markdown",
   "id": "2df770e6-4b3d-4eda-91fd-60e64b43b3f6",
   "metadata": {},
   "source": [
    "We can use this information to build a criterion for removing the duplicates. The higher the number of reviews, the more recent the data should be. Rather than removing duplicates randomly, we'll only keep the row with the highest number of reviews and remove the other entries for any given app."
   ]
  },
  {
   "cell_type": "markdown",
   "id": "f1bef016-4038-4db0-993d-8a9b070e2c5f",
   "metadata": {},
   "source": [
    "To remove the duplicates, we will:\n",
    "\n",
    "* Create a dictionary, where each dictionary key is a unique app name and the corresponding dictionary value is the highest number of reviews of that app.\n",
    "* Use the information stored in the dictionary and create a new data set, which will have only one entry per app (and for each app, we'll only select the entry with the highest number of reviews)."
   ]
  },
  {
   "cell_type": "code",
   "execution_count": 14,
   "id": "c6c4879f-d193-4ca5-9989-5a6e86a09f01",
   "metadata": {},
   "outputs": [],
   "source": [
    "# Creating a dictionary with all unique apps and their highest number of reviews \n",
    "\n",
    "reviews_max={}\n",
    "for row in android:\n",
    "    name=row[0]\n",
    "    n_reviews=float(row[3])\n",
    "    if name in reviews_max and reviews_max[name] < n_reviews:\n",
    "        reviews_max[name]= n_reviews\n",
    "    elif name not in reviews_max:\n",
    "        reviews_max[name] = n_reviews"
   ]
  },
  {
   "cell_type": "markdown",
   "id": "cdd2ad9c-45d9-45a3-ae88-25ab6cec86a3",
   "metadata": {},
   "source": [
    "In a previous code cell, we found that there are *1181* cases where an app occurs more than once, so the length of our dictionary (of unique apps) should be equal to the difference between the length of our data set and *1181*."
   ]
  },
  {
   "cell_type": "code",
   "execution_count": 15,
   "id": "70639f0b-6357-48e3-91fc-794926e82e39",
   "metadata": {},
   "outputs": [
    {
     "name": "stdout",
     "output_type": "stream",
     "text": [
      "Expected length: 9659\n",
      "The length of the dictionary: 9659\n",
      "Actual length: 10840\n"
     ]
    }
   ],
   "source": [
    "print('Expected length:', len(android) - 1181)\n",
    "print('The length of the dictionary:', len(reviews_max))\n",
    "print('Actual length:', len(android))"
   ]
  },
  {
   "cell_type": "markdown",
   "id": "caef1903-18f9-41ae-804d-47ca757c9776",
   "metadata": {},
   "source": [
    "Let's use the dictionary `reviews_max` we created above to remove the duplicate rows.\n",
    "In the code cell below:\n",
    "\n",
    "* We start by initializing two empty lists, `android_clean` and `already_added`.\n",
    "* We loop through the Google Play data set, and for every iteration:\n",
    "    * We isolate the name of the app and the number of reviews.\n",
    "    * We add the current row (`row`) to the `android_clean`, and the app name (`name`) to the `already_added` list if:\n",
    "        + The number of reviews of the current app matches the number of reviews of that app as described in the `reviews_max` dictionary; \n",
    "        + And the name of the app is not already in the `already_added` list. We need to add this supplementary condition to account for those cases where the highest number of reviews of a duplicate app is the same for more than one entry (for example, the Box app has three entries, and the number of reviews is the same). If we just check for `reviews_max[name] == n_reviews`, we'll still end up with duplicate entries for some apps."
   ]
  },
  {
   "cell_type": "code",
   "execution_count": 16,
   "id": "0936daee-e2f5-46f2-a7b7-b0b5401e67e8",
   "metadata": {},
   "outputs": [
    {
     "name": "stdout",
     "output_type": "stream",
     "text": [
      "['Photo Editor & Candy Camera & Grid & ScrapBook', 'ART_AND_DESIGN', '4.1', '159', '19M', '10,000+', 'Free', '0', 'Everyone', 'Art & Design', 'January 7, 2018', '1.0.0', '4.0.3 and up']\n",
      "\n",
      "\n",
      "['U Launcher Lite – FREE Live Cool Themes, Hide Apps', 'ART_AND_DESIGN', '4.7', '87510', '8.7M', '5,000,000+', 'Free', '0', 'Everyone', 'Art & Design', 'August 1, 2018', '1.2.4', '4.0.3 and up']\n",
      "\n",
      "\n",
      "['Sketch - Draw & Paint', 'ART_AND_DESIGN', '4.5', '215644', '25M', '50,000,000+', 'Free', '0', 'Teen', 'Art & Design', 'June 8, 2018', 'Varies with device', '4.2 and up']\n",
      "\n",
      "\n",
      "Number of rows: 9659\n",
      "Number of columns: 13\n"
     ]
    }
   ],
   "source": [
    "# Removing the duplicate rows\n",
    "\n",
    "android_clean=[]\n",
    "already_added=[]\n",
    "for row in android:\n",
    "    name=row[0]\n",
    "    n_reviews=float(row[3])\n",
    "    if (n_reviews == reviews_max[name]) and (name not in already_added):\n",
    "        android_clean.append(row)\n",
    "        already_added.append(name) #his helps us to keep track of apps that we already added\n",
    "explore_data(android_clean, 0, 3, True)"
   ]
  },
  {
   "cell_type": "code",
   "execution_count": 17,
   "id": "c78f3116-1cdc-4a91-8665-4a4657a60648",
   "metadata": {},
   "outputs": [
    {
     "name": "stdout",
     "output_type": "stream",
     "text": [
      "Expected length: 9659\n",
      "Actual length: 9659\n"
     ]
    }
   ],
   "source": [
    "print('Expected length:', len(android) - 1181)\n",
    "print('Actual length:', len(android_clean))"
   ]
  },
  {
   "cell_type": "markdown",
   "id": "842725d9-6c2c-402c-b433-5bc86d552322",
   "metadata": {},
   "source": [
    "Let's take a look if there are any duplicates in the App Store data:"
   ]
  },
  {
   "cell_type": "code",
   "execution_count": 18,
   "id": "ff5e4aa3-dffb-4444-88ae-ae2e4004d3a0",
   "metadata": {},
   "outputs": [
    {
     "name": "stdout",
     "output_type": "stream",
     "text": [
      "Number of duplicate apps in the App Store dataset: 0\n"
     ]
    }
   ],
   "source": [
    "# Writing a loop to spot duplicate entries\n",
    "duplicate_apps = []\n",
    "unique_apps = []\n",
    "\n",
    "for app in ios:\n",
    "    name = app[0]\n",
    "    if name in unique_apps:\n",
    "        duplicate_apps.append(name)\n",
    "    else:\n",
    "        unique_apps.append(name)\n",
    "    \n",
    "print('Number of duplicate apps in the App Store dataset:', len(duplicate_apps))"
   ]
  },
  {
   "cell_type": "markdown",
   "id": "97d8c2e1-8a53-4e38-85f6-9f4fb2bc3eb0",
   "metadata": {},
   "source": [
    "For the App Store data because there are no duplicates."
   ]
  },
  {
   "cell_type": "markdown",
   "id": "131fd4b9-f626-41ea-ab26-0cd8cc253dec",
   "metadata": {},
   "source": [
    "### 3.3 Removing non-English apps <a class=\"anchor\" id=\"chapter3.3\"></a> "
   ]
  },
  {
   "cell_type": "markdown",
   "id": "4b353e12-5eec-495d-a93b-8f6e990b216d",
   "metadata": {},
   "source": [
    "For this particular analysis, we are interested only in English-speaking audience. However, if we explore the data long enough, we'll find that both data sets have apps with names that suggest they are not directed toward an English-speaking audience. Below, we see a couple of examples from both data sets:"
   ]
  },
  {
   "cell_type": "code",
   "execution_count": 19,
   "id": "56e88fea-f2be-4ffa-98ed-c3acbe8970da",
   "metadata": {},
   "outputs": [
    {
     "name": "stdout",
     "output_type": "stream",
     "text": [
      "爱奇艺PPS -《欢乐颂2》电视剧热播\n",
      "【脱出ゲーム】絶対に最後までプレイしないで 〜謎解き＆ブロックパズル〜\n",
      "中国語 AQリスニング\n",
      "لعبة تقدر تربح DZ\n"
     ]
    }
   ],
   "source": [
    "print(ios[813][1])\n",
    "print(ios[6731][1])\n",
    "print(android_clean[4412][0])\n",
    "print(android_clean[7940][0])"
   ]
  },
  {
   "cell_type": "markdown",
   "id": "e53d6e87-1753-4a2a-9a32-f6f209ed217d",
   "metadata": {},
   "source": [
    "We're not interested in keeping these apps, so we'll remove them. One way to do this is to remove each app with a name containing a symbol that isn't commonly used in English text — English text usually includes letters from the English alphabet, numbers composed of digits from 0 to 9, punctuation marks (., !, ?, ;), and other symbols (+, *, /).\n",
    "\n",
    "Behind the scenes, each character we use in a string has a corresponding number associated with it. For instance, the corresponding number for character `'a'` is 97, character `'A'` is 65, and character `'爱'` is 29,233. We can get the corresponding number of each character using the [`ord()` built-in function](https://docs.python.org/3/library/functions.html#ord).\n",
    "\n",
    "The numbers corresponding to the characters we commonly use in an English text are all in the range 0 to 127, according to the [ASCII](https://en.wikipedia.org/wiki/ASCII) (American Standard Code for Information Interchange) system. Based on this number range, we can build a function that detects whether a character belongs to the set of common English characters or not. If the number is equal to or less than 127, then the character belongs to the set of common English characters."
   ]
  },
  {
   "cell_type": "code",
   "execution_count": 20,
   "id": "eb2404c2-e8b9-477e-9794-a63e7c432cfc",
   "metadata": {},
   "outputs": [
    {
     "name": "stdout",
     "output_type": "stream",
     "text": [
      "True\n",
      "False\n"
     ]
    }
   ],
   "source": [
    "# Defing a function that detects whether a character belongs to the set of common English characters or not\n",
    "def eng_apps(string):\n",
    "    for each in string:\n",
    "        if ord(each)>127:\n",
    "            return False\n",
    "    return True\n",
    "print(eng_apps('Instagram'))\n",
    "print(eng_apps('爱奇艺PPS -《欢乐颂2》电视剧热播'))"
   ]
  },
  {
   "cell_type": "markdown",
   "id": "82d5e689-1398-43f7-b3c9-efd815357b71",
   "metadata": {},
   "source": [
    "The function seems to work fine, but some English app names use emojis or other symbols (™, etc.) that fall outside of the ASCII range. Because of this, we'll remove useful apps if we use the function in its current form."
   ]
  },
  {
   "cell_type": "code",
   "execution_count": 21,
   "id": "482b5c8b-e37d-45a1-b7ca-561961b46cab",
   "metadata": {},
   "outputs": [
    {
     "name": "stdout",
     "output_type": "stream",
     "text": [
      "False\n",
      "False\n",
      "8482\n",
      "128540\n"
     ]
    }
   ],
   "source": [
    "print(eng_apps('Docs To Go™ Free Office Suite'))\n",
    "print(eng_apps('Instachat 😜'))\n",
    "print(ord('™'))\n",
    "print(ord('😜'))"
   ]
  },
  {
   "cell_type": "markdown",
   "id": "dbc5b81d-cb11-4d7b-bd40-a358a452752e",
   "metadata": {},
   "source": [
    "If we're going to use the function we've created, we'll lose useful data since many English apps will be incorrectly labeled as non-English. To minimize the impact of data loss, we'll only remove an app if its name has more than three characters with corresponding numbers falling outside the ASCII range. This means all English apps with up to three emoji or other special characters will still be labeled as English. Our filter function is still not perfect, but it should be fairly effective."
   ]
  },
  {
   "cell_type": "code",
   "execution_count": 22,
   "id": "fe16a296-fc18-4594-b484-163bcc24c170",
   "metadata": {},
   "outputs": [
    {
     "name": "stdout",
     "output_type": "stream",
     "text": [
      "True\n",
      "False\n"
     ]
    }
   ],
   "source": [
    "# Defing a function that detects whether more than three characters with corresponding numbers falling outside the ASCII range\n",
    "def eng_apps(string):\n",
    "    is_eng=0\n",
    "    for each in string:\n",
    "        if ord(each)>127:\n",
    "            is_eng +=1\n",
    "    if is_eng > 3:\n",
    "        return False\n",
    "    else:\n",
    "        return True\n",
    "print(eng_apps('Instachat 😜'))\n",
    "print(eng_apps('爱奇艺PPS -《欢乐颂2》电视剧热播'))"
   ]
  },
  {
   "cell_type": "markdown",
   "id": "5b0fd12d-d6e3-4ecf-9819-1c95c1ac708b",
   "metadata": {},
   "source": [
    "The function is still not perfect, and very few non-English apps might get past our filter, but this seems good enough at this point in our analysis — we shouldn't spend too much time on optimization at this point.\n",
    "\n",
    "Below, we use the `eng_apps()` function to filter out the non-English apps for both data sets:"
   ]
  },
  {
   "cell_type": "code",
   "execution_count": 23,
   "id": "4f807e88-1845-4df6-9cd0-2bcbb1e5ae9d",
   "metadata": {},
   "outputs": [
    {
     "name": "stdout",
     "output_type": "stream",
     "text": [
      "\n",
      " ['App', 'Category', 'Rating', 'Reviews', 'Size', 'Installs', 'Type', 'Price', 'Content Rating', 'Genres', 'Last Updated', 'Current Ver', 'Android Ver'] \n",
      "\n",
      "['Photo Editor & Candy Camera & Grid & ScrapBook', 'ART_AND_DESIGN', '4.1', '159', '19M', '10,000+', 'Free', '0', 'Everyone', 'Art & Design', 'January 7, 2018', '1.0.0', '4.0.3 and up']\n",
      "\n",
      "\n",
      "['U Launcher Lite – FREE Live Cool Themes, Hide Apps', 'ART_AND_DESIGN', '4.7', '87510', '8.7M', '5,000,000+', 'Free', '0', 'Everyone', 'Art & Design', 'August 1, 2018', '1.2.4', '4.0.3 and up']\n",
      "\n",
      "\n",
      "['Sketch - Draw & Paint', 'ART_AND_DESIGN', '4.5', '215644', '25M', '50,000,000+', 'Free', '0', 'Teen', 'Art & Design', 'June 8, 2018', 'Varies with device', '4.2 and up']\n",
      "\n",
      "\n",
      "Number of rows: 9614\n",
      "Number of columns: 13\n",
      "\n",
      " ['id', 'track_name', 'size_bytes', 'currency', 'price', 'rating_count_tot', 'rating_count_ver', 'user_rating', 'user_rating_ver', 'ver', 'cont_rating', 'prime_genre', 'sup_devices.num', 'ipadSc_urls.num', 'lang.num', 'vpp_lic'] \n",
      "\n",
      "['284882215', 'Facebook', '389879808', 'USD', '0.0', '2974676', '212', '3.5', '3.5', '95.0', '4+', 'Social Networking', '37', '1', '29', '1']\n",
      "\n",
      "\n",
      "['389801252', 'Instagram', '113954816', 'USD', '0.0', '2161558', '1289', '4.5', '4.0', '10.23', '12+', 'Photo & Video', '37', '0', '29', '1']\n",
      "\n",
      "\n",
      "['529479190', 'Clash of Clans', '116476928', 'USD', '0.0', '2130805', '579', '4.5', '4.5', '9.24.12', '9+', 'Games', '38', '5', '18', '1']\n",
      "\n",
      "\n",
      "Number of rows: 6183\n",
      "Number of columns: 16\n"
     ]
    }
   ],
   "source": [
    "android_english = []\n",
    "ios_english = []\n",
    "\n",
    "for app in android_clean:\n",
    "    name = app[0]\n",
    "    if eng_apps(name):\n",
    "        android_english.append(app)\n",
    "        \n",
    "for app in ios:\n",
    "    name = app[1]\n",
    "    if eng_apps(name):\n",
    "        ios_english.append(app)\n",
    "\n",
    "print('\\n',android_header,'\\n')\n",
    "explore_data(android_english, 0, 3, True)\n",
    "print('\\n',ios_header,'\\n')\n",
    "explore_data(ios_english, 0, 3, True)"
   ]
  },
  {
   "cell_type": "markdown",
   "id": "761937da-fae1-4bb1-94a2-597bd1e5d408",
   "metadata": {},
   "source": [
    "### 3.4 Isolating the free apps <a class=\"anchor\" id=\"chapter3.4\"></a> "
   ]
  },
  {
   "cell_type": "markdown",
   "id": "50143afa-d6b7-42b8-990c-c9871a0fb2d5",
   "metadata": {},
   "source": [
    "As we mentioned in the introduction, we only build apps that are free to download and install, and our main source of revenue consists of in-app ads. Our data sets contain both free and non-free apps, and we'll need to isolate only the free apps for our analysis. Below, we isolate the free apps for both our data sets."
   ]
  },
  {
   "cell_type": "code",
   "execution_count": 24,
   "id": "4bf5882f-1320-4f98-b555-3348ccd9f01a",
   "metadata": {},
   "outputs": [
    {
     "name": "stdout",
     "output_type": "stream",
     "text": [
      "8864\n",
      "3222\n"
     ]
    }
   ],
   "source": [
    "# Looping through each data set to isolate the free apps in separate lists. \n",
    "android_free=[]\n",
    "ios_free=[]\n",
    "for row in ios_english:\n",
    "    price=row[4]\n",
    "    if price == '0.0':\n",
    "        ios_free.append(row)\n",
    "\n",
    "for row in android_english:\n",
    "    price=row[7]\n",
    "    if price == '0':\n",
    "        android_free.append(row)\n",
    "        \n",
    "# Checking the length of each data set to see how many apps you have remaining\n",
    "print(len(android_free))\n",
    "print(len(ios_free))"
   ]
  },
  {
   "cell_type": "markdown",
   "id": "d5ba265d-a9b3-4a54-8456-5ef60abfb2fd",
   "metadata": {},
   "source": [
    "We're left with 8864 Android apps and 3222 iOS apps, which should be enough for our analysis."
   ]
  },
  {
   "cell_type": "markdown",
   "id": "07c5eed2-699a-45b0-b3e4-129281c5932c",
   "metadata": {},
   "source": [
    "## 4. Data Analysis <a class=\"anchor\" id=\"chapter4\"></a>"
   ]
  },
  {
   "cell_type": "markdown",
   "id": "f192176e-0647-4b9f-a331-b710749fa920",
   "metadata": {},
   "source": [
    "As we mentioned in the [Project Overview](#chapter1), our goal is to determine the kinds of apps that are likely to attract more users because the number of people using our apps affect our revenue."
   ]
  },
  {
   "cell_type": "markdown",
   "id": "b03e2632-fbef-4dc5-8198-35c83d4c871d",
   "metadata": {},
   "source": [
    "### 4.1 Most common apps by genre <a class=\"anchor\" id=\"chapter4.1\"></a> "
   ]
  },
  {
   "cell_type": "markdown",
   "id": "040f73da-f47d-4ec4-988c-11b0db67195b",
   "metadata": {},
   "source": [
    "Let's begin the analysis by determining the most common genres for each market.  For this, we'll build a frequency table for the `prime_genre` column in the App Store dataset, and the `Category` column in the Google Play dataset.\n",
    "\n",
    "We'll build two functions we can use to analyze the frequency tables:\n",
    "\n",
    "* One function to generate frequency tables that show percentages\n",
    "* Another function we can use to display the percentages in a descending order"
   ]
  },
  {
   "cell_type": "code",
   "execution_count": 25,
   "id": "78da7752-84a2-462a-9ac6-c8a441b295a1",
   "metadata": {},
   "outputs": [],
   "source": [
    "# Defining a function to generate frequency tables that show percentages\n",
    "def freq_table(dataset, index):\n",
    "    our_table = {}\n",
    "    total = 0\n",
    "    for row in dataset:\n",
    "        total += 1\n",
    "        our_column = row[index]\n",
    "        if our_column not in our_table:\n",
    "            our_table[our_column] = 1\n",
    "        else:\n",
    "            our_table[our_column] += 1\n",
    "            \n",
    "    table_percentages = {}\n",
    "    for key in our_table:\n",
    "        percentage = (our_table[key] / total) * 100\n",
    "        table_percentages[key] = percentage \n",
    "    \n",
    "    return table_percentages\n",
    "\n",
    "# Defining a function to display the percentages in a descending order\n",
    "def display_table(dataset, index):\n",
    "    table = freq_table(dataset, index)\n",
    "    table_display = []\n",
    "    for key in table:\n",
    "        key_val_as_tuple = (table[key], key)\n",
    "        table_display.append(key_val_as_tuple)\n",
    "        \n",
    "    table_sorted = sorted(table_display, reverse = True)\n",
    "    for entry in table_sorted:\n",
    "        print(entry[1], ':', entry[0])"
   ]
  },
  {
   "cell_type": "markdown",
   "id": "bb6b07f0-d52e-4e56-a945-238899be3e3d",
   "metadata": {},
   "source": [
    "We start by examining the frequency table for the `Category` column in the Google Play dataset."
   ]
  },
  {
   "cell_type": "code",
   "execution_count": 26,
   "id": "b9bf948e-8e39-424a-a2d6-679b502f3f42",
   "metadata": {},
   "outputs": [
    {
     "name": "stdout",
     "output_type": "stream",
     "text": [
      "FAMILY : 18.907942238267147\n",
      "GAME : 9.724729241877256\n",
      "TOOLS : 8.461191335740072\n",
      "BUSINESS : 4.591606498194946\n",
      "LIFESTYLE : 3.9034296028880866\n",
      "PRODUCTIVITY : 3.892148014440433\n",
      "FINANCE : 3.7003610108303246\n",
      "MEDICAL : 3.531137184115524\n",
      "SPORTS : 3.395758122743682\n",
      "PERSONALIZATION : 3.3167870036101084\n",
      "COMMUNICATION : 3.2378158844765346\n",
      "HEALTH_AND_FITNESS : 3.0798736462093865\n",
      "PHOTOGRAPHY : 2.944494584837545\n",
      "NEWS_AND_MAGAZINES : 2.7978339350180503\n",
      "SOCIAL : 2.6624548736462095\n",
      "TRAVEL_AND_LOCAL : 2.33528880866426\n",
      "SHOPPING : 2.2450361010830324\n",
      "BOOKS_AND_REFERENCE : 2.1435018050541514\n",
      "DATING : 1.861462093862816\n",
      "VIDEO_PLAYERS : 1.7937725631768955\n",
      "MAPS_AND_NAVIGATION : 1.3989169675090252\n",
      "FOOD_AND_DRINK : 1.2409747292418771\n",
      "EDUCATION : 1.1620036101083033\n",
      "ENTERTAINMENT : 0.9589350180505415\n",
      "LIBRARIES_AND_DEMO : 0.9363718411552346\n",
      "AUTO_AND_VEHICLES : 0.9250902527075812\n",
      "HOUSE_AND_HOME : 0.8235559566787004\n",
      "WEATHER : 0.8009927797833934\n",
      "EVENTS : 0.7107400722021661\n",
      "PARENTING : 0.6543321299638989\n",
      "ART_AND_DESIGN : 0.6430505415162455\n",
      "COMICS : 0.6204873646209386\n",
      "BEAUTY : 0.5979241877256317\n"
     ]
    }
   ],
   "source": [
    "display_table(android_free, 1) # Category"
   ]
  },
  {
   "cell_type": "markdown",
   "id": "1bbd257b-3e2e-44e3-80c9-7fa33c1bfa18",
   "metadata": {},
   "source": [
    "It seems that a good number of apps are designed for practical purposes (family, tools, business, lifestyle, productivity, etc.). However, if we investigate this further, we can see that the *FAMILY* category (which accounts for almost 19% of the apps) means mostly games for kids.\n",
    "\n",
    "![](pictures/family.png)"
   ]
  },
  {
   "cell_type": "markdown",
   "id": "8c0b3027-7900-45cd-af47-0f6f3da8dda0",
   "metadata": {},
   "source": [
    "Let's continue by examining the frequency table for the `prime_genre` column in the App Store dataset."
   ]
  },
  {
   "cell_type": "code",
   "execution_count": 27,
   "id": "1209f516-c3a6-43ee-a401-a925eb796822",
   "metadata": {},
   "outputs": [
    {
     "name": "stdout",
     "output_type": "stream",
     "text": [
      "Games : 58.16263190564867\n",
      "Entertainment : 7.883302296710118\n",
      "Photo & Video : 4.9658597144630665\n",
      "Education : 3.662321539416512\n",
      "Social Networking : 3.2898820608317814\n",
      "Shopping : 2.60707635009311\n",
      "Utilities : 2.5139664804469275\n",
      "Sports : 2.1415270018621975\n",
      "Music : 2.0484171322160147\n",
      "Health & Fitness : 2.0173805090006205\n",
      "Productivity : 1.7380509000620732\n",
      "Lifestyle : 1.5828677839851024\n",
      "News : 1.3345747982619491\n",
      "Travel : 1.2414649286157666\n",
      "Finance : 1.1173184357541899\n",
      "Weather : 0.8690254500310366\n",
      "Food & Drink : 0.8069522036002483\n",
      "Reference : 0.5586592178770949\n",
      "Business : 0.5276225946617008\n",
      "Book : 0.4345127250155183\n",
      "Navigation : 0.186219739292365\n",
      "Medical : 0.186219739292365\n",
      "Catalogs : 0.12414649286157665\n"
     ]
    }
   ],
   "source": [
    "display_table(ios_free, -5)"
   ]
  },
  {
   "cell_type": "markdown",
   "id": "a5746ad6-06ed-4cbe-8d81-f54806707b08",
   "metadata": {},
   "source": [
    "We can see that among the free English apps, more than a half (58.16%) are games. Entertainment apps are close to 8%, followed by photo and video apps, which are close to 5%. Only 3.66% of the apps are designed for education, followed by social networking apps which amount for 3.29% of the apps in our data set.\n",
    "\n",
    "The general impression is that App Store (at least the part containing free English apps) is dominated by apps that are designed for fun (games, entertainment, photo and video, social networking, sports, music, etc.), while apps with practical purposes (education, shopping, utilities, productivity, lifestyle, etc.) are more rare. However, the fact that fun apps are the most numerous doesn't also imply that they also have the greatest number of users — the demand might not be the same as the offer."
   ]
  },
  {
   "cell_type": "markdown",
   "id": "79232308-71d4-48ca-8e4a-80651c263246",
   "metadata": {},
   "source": [
    "The frequency tables showed us that apps designed for fun dominate the App Store, while Google Play shows a more balanced landscape of both practical and fun apps. Now, we'd like to determine the kind of apps with the most users."
   ]
  },
  {
   "cell_type": "markdown",
   "id": "b306b38a-0686-4686-86b0-3c0f9b0fc79e",
   "metadata": {},
   "source": [
    "One way to find out what genres are the most popular (have the most users) is to calculate the average number of installs for each app genre. For the Google Play dataset, we can find this information in the `Installs` column, but this information is missing for the App Store dataset. As a workaround, we'll take the total number of user ratings as a proxy, which we can find in the `rating_count_tot` app."
   ]
  },
  {
   "cell_type": "markdown",
   "id": "57008c27-9f5a-4589-84e3-536500fbba83",
   "metadata": {},
   "source": [
    "### 4.2 Most Popular Apps by Genre on the App Store <a class=\"anchor\" id=\"chapter4.2\"></a> "
   ]
  },
  {
   "cell_type": "markdown",
   "id": "1d21fbc9-3a53-4127-9202-5cd0429bf112",
   "metadata": {},
   "source": [
    "Let's start with calculating the average number of user ratings per app genre on the App Store. To do that, we'll need to do the following:\n",
    "\n",
    "* Isolate the apps of each genre\n",
    "* Add up the user ratings for the apps of that genre\n",
    "* Divide the sum by the number of apps belonging to that genre (not by the total number of apps)"
   ]
  },
  {
   "cell_type": "markdown",
   "id": "e0266946-0734-43f9-96d1-e52386f978da",
   "metadata": {},
   "source": [
    "Below, we calculate the average number of user ratings per app genre on the App Store:"
   ]
  },
  {
   "cell_type": "code",
   "execution_count": 28,
   "id": "b4406b96-8c02-413c-90a5-823d981e6d79",
   "metadata": {},
   "outputs": [
    {
     "data": {
      "text/plain": [
       "[('Navigation', 86090.33333333333),\n",
       " ('Reference', 74942.11111111111),\n",
       " ('Social Networking', 71548.34905660378),\n",
       " ('Music', 57326.530303030304),\n",
       " ('Weather', 52279.892857142855),\n",
       " ('Book', 39758.5),\n",
       " ('Food & Drink', 33333.92307692308),\n",
       " ('Finance', 31467.944444444445),\n",
       " ('Photo & Video', 28441.54375),\n",
       " ('Travel', 28243.8),\n",
       " ('Shopping', 26919.690476190477),\n",
       " ('Health & Fitness', 23298.015384615384),\n",
       " ('Sports', 23008.898550724636),\n",
       " ('Games', 22788.6696905016),\n",
       " ('News', 21248.023255813954),\n",
       " ('Productivity', 21028.410714285714),\n",
       " ('Utilities', 18684.456790123455),\n",
       " ('Lifestyle', 16485.764705882353),\n",
       " ('Entertainment', 14029.830708661417),\n",
       " ('Business', 7491.117647058823),\n",
       " ('Education', 7003.983050847458),\n",
       " ('Catalogs', 4004.0),\n",
       " ('Medical', 612.0)]"
      ]
     },
     "execution_count": 28,
     "metadata": {},
     "output_type": "execute_result"
    }
   ],
   "source": [
    "# To calculate the average number of user ratings for each genre, we'll use a for loop inside of another for loop.\n",
    "\n",
    "genres_ios = freq_table(ios_free, -5)\n",
    "for genre in genres_ios:\n",
    "    total = 0\n",
    "    len_genre = 0\n",
    "    table_display = []\n",
    "    for app in ios_free:\n",
    "        genre_app = app[-5]\n",
    "        if genre_app == genre:\n",
    "            n_ratings = float(app[5])\n",
    "            total += n_ratings\n",
    "            len_genre += 1\n",
    "    avg_n_ratings = total / len_genre\n",
    "    genres_ios[genre] = avg_n_ratings\n",
    "    \n",
    "sorted(genres_ios.items(), key=lambda item: item[1], reverse=True)"
   ]
  },
  {
   "cell_type": "markdown",
   "id": "6c9d3de8-b94f-4e6f-9191-c196ba02cdc3",
   "metadata": {},
   "source": [
    "On average, navigation apps have the highest number of user reviews, but this figure is heavily influenced by Waze and Google Maps, which have close to half a million user reviews together:"
   ]
  },
  {
   "cell_type": "code",
   "execution_count": 29,
   "id": "f1d64829-44cf-4614-99c4-01e3c9938060",
   "metadata": {},
   "outputs": [
    {
     "name": "stdout",
     "output_type": "stream",
     "text": [
      "Waze - GPS Navigation, Maps & Real-time Traffic : 345046\n",
      "Google Maps - Navigation & Transit : 154911\n",
      "Geocaching® : 12811\n",
      "CoPilot GPS – Car Navigation & Offline Maps : 3582\n",
      "ImmobilienScout24: Real Estate Search in Germany : 187\n",
      "Railway Route Search : 5\n"
     ]
    }
   ],
   "source": [
    "for app in ios_free:\n",
    "    if app[-5] == 'Navigation':\n",
    "        print(app[1], ':', app[5]) # print name and number of ratings"
   ]
  },
  {
   "cell_type": "markdown",
   "id": "e7e6a788-25ed-451a-ac30-d2c0b5a0e3c4",
   "metadata": {},
   "source": [
    "The same pattern applies to social networking apps, where the average number is heavily influenced by a few giants like Facebook, Pinterest, Skype, etc. Same applies to music apps, where a few big players like Pandora, Spotify, and Shazam heavily influence the average number.\n",
    "\n",
    "Our aim is to find popular genres, but navigation, social networking or music apps might seem more popular than they really are. The average number of ratings seem to be skewed by very few apps which have hundreds of thousands of user ratings, while the other apps may struggle to get past the 10,000 threshold. We could get a better picture by removing these extremely popular apps for each genre and then rework the averages, but we'll leave this level of detail for later.\n",
    "\n",
    "Reference apps have 74,942 user ratings on average, but it's actually the Bible and Dictionary.com which skew up the average rating:"
   ]
  },
  {
   "cell_type": "markdown",
   "id": "73691633-2e08-4ed9-a2dd-b67810a72155",
   "metadata": {},
   "source": [
    "### 4.3 Most Popular Apps by Genre on Google Play <a class=\"anchor\" id=\"chapter4.3\"></a> "
   ]
  },
  {
   "cell_type": "markdown",
   "id": "e99daed1-daa6-4904-9d2d-ca4f6f38de0a",
   "metadata": {},
   "source": [
    "For the Google Play market, we actually have data about the number of installs, so we should be able to get a clearer picture about genre popularity. However, the install numbers don't seem precise enough — we can see that most values are open-ended (100+, 1,000+, 5,000+, etc.):"
   ]
  },
  {
   "cell_type": "code",
   "execution_count": 31,
   "id": "a92584ec-4f08-4324-a600-3f7105d00847",
   "metadata": {},
   "outputs": [
    {
     "name": "stdout",
     "output_type": "stream",
     "text": [
      "1,000,000+ : 15.726534296028879\n",
      "100,000+ : 11.552346570397113\n",
      "10,000,000+ : 10.548285198555957\n",
      "10,000+ : 10.198555956678701\n",
      "1,000+ : 8.393501805054152\n",
      "100+ : 6.915613718411552\n",
      "5,000,000+ : 6.825361010830325\n",
      "500,000+ : 5.561823104693141\n",
      "50,000+ : 4.7721119133574\n",
      "5,000+ : 4.512635379061372\n",
      "10+ : 3.5424187725631766\n",
      "500+ : 3.2490974729241873\n",
      "50,000,000+ : 2.3014440433213\n",
      "100,000,000+ : 2.1322202166064983\n",
      "50+ : 1.917870036101083\n",
      "5+ : 0.78971119133574\n",
      "1+ : 0.5076714801444043\n",
      "500,000,000+ : 0.2707581227436823\n",
      "1,000,000,000+ : 0.22563176895306858\n",
      "0+ : 0.04512635379061372\n",
      "0 : 0.01128158844765343\n"
     ]
    }
   ],
   "source": [
    "display_table(android_free, 5) # the Installs columns"
   ]
  },
  {
   "cell_type": "code",
   "execution_count": null,
   "id": "67658901-154c-41e0-bee0-97064be8143f",
   "metadata": {},
   "outputs": [],
   "source": []
  },
  {
   "cell_type": "code",
   "execution_count": null,
   "id": "f7c9fc50-610b-4261-8b0e-5c6554247cd1",
   "metadata": {},
   "outputs": [],
   "source": []
  },
  {
   "cell_type": "code",
   "execution_count": null,
   "id": "047ab13e-80ef-44ed-a17c-ffb2e933be37",
   "metadata": {},
   "outputs": [],
   "source": []
  },
  {
   "cell_type": "code",
   "execution_count": null,
   "id": "6c8cb019-5f7e-44a2-b250-e69d5e93ad69",
   "metadata": {},
   "outputs": [],
   "source": []
  },
  {
   "cell_type": "markdown",
   "id": "c1687f3e-26ec-4850-b41f-0743a3712466",
   "metadata": {},
   "source": [
    "## Footnotes"
   ]
  },
  {
   "cell_type": "markdown",
   "id": "7542a1a5-87a0-4f2e-ac4e-7f2d07bd16b5",
   "metadata": {},
   "source": [
    "<span id=\"fn1\"> 1. [Number of apps available in leading app stores as of 1st quarter 2021, Statista\n",
    "](https://www.statista.com/statistics/276623/number-of-apps-available-in-leading-app-stores/)</span>"
   ]
  },
  {
   "cell_type": "code",
   "execution_count": null,
   "id": "81c48150-c31f-41ac-b338-075f2c76c0b6",
   "metadata": {},
   "outputs": [],
   "source": [
    "import pandas as pd\n",
    "app_data = pd.read_csv('AppleStore.csv')"
   ]
  },
  {
   "cell_type": "code",
   "execution_count": null,
   "id": "894de384-d7fe-4295-a486-dcbc3a99c811",
   "metadata": {},
   "outputs": [],
   "source": [
    "print(app_data.shape)"
   ]
  },
  {
   "cell_type": "code",
   "execution_count": null,
   "id": "12ae112a-0061-4b97-9c43-51c01d663b3e",
   "metadata": {},
   "outputs": [],
   "source": [
    "# reading in data as a url from NYC Open Data\n",
    "host = 'https://dq-content.s3.amazonaws.com/350/AppleStore.csv'\n",
    "\n",
    "# saving data as a pandas dataframe named 'building_footprints_csv'\n",
    "hate_Crimes = pd.read_csv(host)\n",
    "print(hate_Crimes.shape)"
   ]
  },
  {
   "cell_type": "code",
   "execution_count": null,
   "id": "3a36eca0-a34d-4db8-aa8d-e91ddd6c022e",
   "metadata": {},
   "outputs": [],
   "source": [
    "app_data"
   ]
  },
  {
   "cell_type": "code",
   "execution_count": null,
   "id": "3cd4e08e-2ed3-4eae-8fff-c67bf41120a5",
   "metadata": {},
   "outputs": [],
   "source": []
  }
 ],
 "metadata": {
  "kernelspec": {
   "display_name": "Python 3 (ipykernel)",
   "language": "python",
   "name": "python3"
  },
  "language_info": {
   "codemirror_mode": {
    "name": "ipython",
    "version": 3
   },
   "file_extension": ".py",
   "mimetype": "text/x-python",
   "name": "python",
   "nbconvert_exporter": "python",
   "pygments_lexer": "ipython3",
   "version": "3.9.7"
  }
 },
 "nbformat": 4,
 "nbformat_minor": 5
}
