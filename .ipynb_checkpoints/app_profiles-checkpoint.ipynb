{
 "cells": [
  {
   "cell_type": "markdown",
   "id": "1f6d76fe-db23-4e5b-8422-b36ef10378c8",
   "metadata": {},
   "source": [
    "# Profitable App Profiles for the App Store and Google Play Markets"
   ]
  },
  {
   "cell_type": "markdown",
   "id": "b2a7abbf-41cb-4a5e-992f-bf022a4100fc",
   "metadata": {},
   "source": [
    "![Image](https://encrypted-tbn0.gstatic.com/images?q=tbn:ANd9GcTZMG2LTP5xD1lZ9SxeiWuql2IJdUG9ct4Ukg&usqp=CAU)"
   ]
  },
  {
   "cell_type": "markdown",
   "id": "2b34237e-4f3a-4773-bd8f-f360166fe7ce",
   "metadata": {
    "tags": []
   },
   "source": [
    "Table of Contents\n",
    "=================\n",
    "\n",
    "   * [1. Project Overview](#chapter1)\n",
    "   * [2. Getting Started](#chapter2)\n",
    "       * [2.1 Importing relevant libraries and checking their versions](#chapter2.1)\n",
    "       * [2.2 Reading in datasets as lists of lists](#chapter2.2)\n",
    "       * [2.3 Sneak peek at the datasets](#chapter2.3)\n",
    "       \n",
    "       \n",
    "   * [3. Data Cleaning](#chapter3)\n",
    "       * [3.1 Reading in a CSV file](##-3.1-Reading-in-a-CSV-file)\n",
    "       * [3.2 Reading in an Excel file](##-3.2-Reading-in-an-Excel-file)\n",
    "       * [3.3 Reading in a JSON file](##-3.3-Reading-in-a-JSON-file)\n",
    "       \n",
    "       \n",
    "   * [4. Conclusion](#-4.-Conclusion))"
   ]
  },
  {
   "cell_type": "markdown",
   "id": "007bd0a7-bdbf-4e45-a14b-20f2aaacb7ef",
   "metadata": {},
   "source": [
    "## 1. Project Overview <a class=\"anchor\" id=\"chapter1\"></a>"
   ]
  },
  {
   "cell_type": "markdown",
   "id": "989db1bf-0cb6-4053-8400-b307bfb4c755",
   "metadata": {},
   "source": [
    "This is a data cleaning and analysis project. *We did not use Numpy or Pandas libraries here for a purpose.*\n",
    "\n",
    "For this project, we'll pretend we're working as data analysts for a company that builds Android and iOS mobile apps. We make our apps available on Google Play and in the App Store.\n",
    "\n",
    "We only build apps that are free to download and install, and our main source of revenue consists of in-app ads. This means that the number of users of our apps determines our revenue for any given app — the more users who see and engage with the ads, the better. Our goal for this project is to analyze data to help our developers understand what type of apps are likely to attract more users.\n",
    "\n"
   ]
  },
  {
   "cell_type": "markdown",
   "id": "6e0c5af9-cb06-4cc8-96ed-09abafaeed32",
   "metadata": {},
   "source": [
    "## 2. Getting started <a class=\"anchor\" id=\"chapter2\"></a>"
   ]
  },
  {
   "cell_type": "markdown",
   "id": "5735370c-6d5e-4887-a7de-97f16e00ddec",
   "metadata": {},
   "source": [
    "### 2.1 Importing relevant libraries and checking their versions <a class=\"anchor\" id=\"chapter2.1\"></a>"
   ]
  },
  {
   "cell_type": "code",
   "execution_count": 1,
   "id": "d9a36c77-a784-466a-a431-ee7ee6c9fa9f",
   "metadata": {},
   "outputs": [],
   "source": [
    "# Importing libraries\n",
    "import requests\n",
    "from csv import reader"
   ]
  },
  {
   "cell_type": "code",
   "execution_count": 2,
   "id": "eab37ba2-8ee8-4873-b9fc-17d68eb6ad82",
   "metadata": {},
   "outputs": [
    {
     "name": "stdout",
     "output_type": "stream",
     "text": [
      "Python implementation: CPython\n",
      "Python version       : 3.7.11\n",
      "IPython version      : 7.29.0\n",
      "\n",
      "requests: 2.26.0\n",
      "csv     : 1.0\n",
      "\n"
     ]
    }
   ],
   "source": [
    "# Printing verions of Python modules and packages with watermark - the IPython magic extension.\n",
    "%load_ext watermark\n",
    "\n",
    "%watermark -v -p requests,csv"
   ]
  },
  {
   "cell_type": "markdown",
   "id": "602d7fcf-fc62-457c-af6d-4b24ff36f99b",
   "metadata": {},
   "source": [
    "### 2.2 Reading in datasets as lists of lists <a class=\"anchor\" id=\"chapter2.2\"></a>"
   ]
  },
  {
   "cell_type": "markdown",
   "id": "43c67cf1-62c6-4184-a7cf-8d9eec30e036",
   "metadata": {},
   "source": [
    "As of 1st quarter of 2021, there were approximately 2 million iOS apps available on the App Store, and 3.5 million Android apps on Google Play[<sup>1</sup>](#fn1).\n",
    "\n",
    "Collecting data for over 4 million apps requires a significant amount of time and money, so we'll try to analyze a sample of the data instead. To avoid spending resources on collecting new data ourselves, we should first try to see if we can find any relevant existing data at no cost. Luckily, here are two data sets that seem suitable for our goals:\n",
    "\n",
    "* [A dataset](https://www.kaggle.com/lava18/google-play-store-apps) containing data about approximately 10,000 Android apps from Google Play; the data was collected in August 2018. You can download the data set directly from this [link](https://dq-content.s3.amazonaws.com/350/googleplaystore.csv).\n",
    "* [A dataset](https://www.kaggle.com/ramamet4/app-store-apple-data-set-10k-apps) containing data about approximately 7,000 iOS apps from the App Store; the data was collected in July 2017. You can download the data set directly from this [link](https://dq-content.s3.amazonaws.com/350/AppleStore.csv)."
   ]
  },
  {
   "cell_type": "markdown",
   "id": "42cbae43-61a9-4239-836d-e14ad6450c06",
   "metadata": {},
   "source": [
    "Now, we will define a function `open_data` to import the two datasets we mentioned above and save them as *list of lists*."
   ]
  },
  {
   "cell_type": "code",
   "execution_count": 3,
   "id": "9c9a553c-e6f9-43d8-a9a2-985c6fe31aad",
   "metadata": {},
   "outputs": [],
   "source": [
    "# Saving links as variables\n",
    "url_android = 'https://dq-content.s3.amazonaws.com/350/googleplaystore.csv'\n",
    "url_ios = 'https://dq-content.s3.amazonaws.com/350/AppleStore.csv'\n",
    "\n",
    "# Defining the `open_data` function\n",
    "def open_data(filename):\n",
    "    \"\"\"\n",
    "    This function takes in a link to a csv file as input and \n",
    "    returns dataset in the list of lists format as output\n",
    "    \"\"\"\n",
    "    with requests.Session() as s:\n",
    "        response = s.get(filename)\n",
    "        decoded_content = response.content.decode('utf-8')\n",
    "        read_file = reader(decoded_content.splitlines(), delimiter=',')\n",
    "        return list(read_file)\n",
    "    \n",
    "\n",
    "# Loading both datasets\n",
    "android = open_data(url_android)   \n",
    "android_header = android[0]\n",
    "android = android[1:]\n",
    "\n",
    "ios = open_data(url_ios) \n",
    "ios_header = ios[0]\n",
    "ios = ios[1:]"
   ]
  },
  {
   "cell_type": "markdown",
   "id": "f9c6a4f1-68d2-4cd2-a942-53f3d508f2c2",
   "metadata": {},
   "source": [
    "### 2.3 Sneak peek at the datasets <a class=\"anchor\" id=\"chapter2.3\"></a>"
   ]
  },
  {
   "cell_type": "markdown",
   "id": "ce080a05-ec86-4612-9613-d360d4f8fa1f",
   "metadata": {},
   "source": [
    "Let's print the column names and take a look at the data dictionaries to try to identify the columns that could help us with our analysis."
   ]
  },
  {
   "cell_type": "code",
   "execution_count": 4,
   "id": "8b88be13-4d7b-4773-a8e9-c33a46503c09",
   "metadata": {},
   "outputs": [
    {
     "name": "stdout",
     "output_type": "stream",
     "text": [
      "['App', 'Category', 'Rating', 'Reviews', 'Size', 'Installs', 'Type', 'Price', 'Content Rating', 'Genres', 'Last Updated', 'Current Ver', 'Android Ver']\n"
     ]
    }
   ],
   "source": [
    "# Exploring the columns names for the Google Play dataset\n",
    "print(android_header)"
   ]
  },
  {
   "cell_type": "markdown",
   "id": "13f2f583-39dc-4ebf-80af-7ea5bc7c17a8",
   "metadata": {},
   "source": [
    "                                           Data Dictionary for the Google Play dataset\n",
    "---------------------------------------------\n",
    "| Column Name | Description | \n",
    "| ------------ | ------------- | \n",
    "| App | Application name | \n",
    "| Category | Category the app belongs to | \n",
    "| Rating | Overall user rating of the app (as when scraped) | \n",
    "| Reviews | Number of user reviews for the app (as when scraped) | \n",
    "| Size | Size of the app (as when scraped) |\n",
    "| Installs | Number of user downloads/installs for the app (as when scraped)  | \n",
    "| Type | Paid or Free |\n",
    "| Price | Price of the app (as when scraped) | \n",
    "| Content Rating | Age group the app is targeted at - Children / Mature 21+ / Adult |\n",
    "| Genres | An app can belong to multiple genres (apart from its main category). For eg, a musical family game will belong to Music, Game, Family genres. |\n",
    "| Last Updated | Date when the app was last updated on Play Store (as when scraped) |\n",
    "| Current Ver | Current version of the app available on Play Store (as when scraped) |\n",
    "| Android Ver | Min required Android version (as when scraped) |  \n"
   ]
  },
  {
   "cell_type": "code",
   "execution_count": 5,
   "id": "d9080222-942f-41d5-8979-a2c4392d62f6",
   "metadata": {},
   "outputs": [
    {
     "name": "stdout",
     "output_type": "stream",
     "text": [
      "['id', 'track_name', 'size_bytes', 'currency', 'price', 'rating_count_tot', 'rating_count_ver', 'user_rating', 'user_rating_ver', 'ver', 'cont_rating', 'prime_genre', 'sup_devices.num', 'ipadSc_urls.num', 'lang.num', 'vpp_lic']\n"
     ]
    }
   ],
   "source": [
    "# Exploring the columns names for the App Store dataset\n",
    "print(ios_header)"
   ]
  },
  {
   "cell_type": "markdown",
   "id": "8326591c-f2ea-4676-8931-f28d77da1a84",
   "metadata": {},
   "source": [
    "                                          Data Dictionary for the App Store dataset\n",
    "---------------------------------------------\n",
    "| Column Name | Description | \n",
    "| ------------ | ------------- | \n",
    "| id | App ID | \n",
    "| track_name | App Name | \n",
    "| size_bytes | Size (in Bytes) | \n",
    "| currency | Currency Type | \n",
    "| price | Price amount |\n",
    "| rating_count_tot | User Rating counts (for all version) | \n",
    "| rating_count_ver | User Rating counts (for current version) |\n",
    "| user_rating | Average User Rating value (for all version) | \n",
    "| user_rating_ver | Average User Rating value (for current version) |\n",
    "| ver | Latest version code |\n",
    "| cont_rating | Content Rating |\n",
    "| prime_genre | Primary Genre |\n",
    "| sup_devices.num | Number of supporting devices |  \n",
    "| ipadSc_urls.num | Number of screenshots showed for display |  \n",
    "| lang.num | Number of supported languages |  \n",
    "| vpp_lic | Vpp Device Based Licensing Enabled |  "
   ]
  },
  {
   "cell_type": "markdown",
   "id": "d4381c65-87c4-442b-9dbe-bb66bd0610d9",
   "metadata": {},
   "source": [
    "At a quick glance, the columns that might be useful for the purpose of our analysis are: `App` and `track_name`,  `Category` and 'prime_genre',  `Installs` and `rating_count_tot`, `Price` and `price`."
   ]
  },
  {
   "cell_type": "markdown",
   "id": "f5527ea4-9d16-488c-b9c1-f929c60d4a1b",
   "metadata": {},
   "source": [
    "To make it easier to explore the two datasets, we'll write a function named `explore_data()` that we can use repeatedly to explore rows in a more readable way. We'll also add an option for our function to show the number of rows and columns for any dataset."
   ]
  },
  {
   "cell_type": "code",
   "execution_count": 6,
   "id": "ff906e7a-abef-49fc-b760-d10b8d295e92",
   "metadata": {},
   "outputs": [],
   "source": [
    "# Defining the `explore_data` function\n",
    "def explore_data(dataset, start, end, rows_and_columns=False):\n",
    "    \"\"\"\n",
    "    This function loops through the slice of a dataset, \n",
    "    and for each iteration, prints a row and adds a new line after that row, \n",
    "    and prints the number of rows and columns if `rows_and_columns` is `True`\n",
    "    \"\"\"\n",
    "    dataset_slice = dataset[start:end]    \n",
    "    for row in dataset_slice:\n",
    "        print(row)\n",
    "        print('\\n') # adds a new (empty) line after each row\n",
    "\n",
    "    if rows_and_columns:\n",
    "        print('Number of rows:', len(dataset))\n",
    "        print('Number of columns:', len(dataset[0]))"
   ]
  },
  {
   "cell_type": "code",
   "execution_count": 7,
   "id": "739d07ef-d1d8-4665-a4d0-d88d7f33b843",
   "metadata": {},
   "outputs": [
    {
     "name": "stdout",
     "output_type": "stream",
     "text": [
      "Google Play Data\n",
      "\n",
      "\n",
      "['Photo Editor & Candy Camera & Grid & ScrapBook', 'ART_AND_DESIGN', '4.1', '159', '19M', '10,000+', 'Free', '0', 'Everyone', 'Art & Design', 'January 7, 2018', '1.0.0', '4.0.3 and up']\n",
      "\n",
      "\n",
      "['Coloring book moana', 'ART_AND_DESIGN', '3.9', '967', '14M', '500,000+', 'Free', '0', 'Everyone', 'Art & Design;Pretend Play', 'January 15, 2018', '2.0.0', '4.0.3 and up']\n",
      "\n",
      "\n",
      "['U Launcher Lite – FREE Live Cool Themes, Hide Apps', 'ART_AND_DESIGN', '4.7', '87510', '8.7M', '5,000,000+', 'Free', '0', 'Everyone', 'Art & Design', 'August 1, 2018', '1.2.4', '4.0.3 and up']\n",
      "\n",
      "\n",
      "Number of rows: 10841\n",
      "Number of columns: 13\n",
      "\n",
      "\n",
      "Apple Store Data\n",
      "\n",
      "\n",
      "['284882215', 'Facebook', '389879808', 'USD', '0.0', '2974676', '212', '3.5', '3.5', '95.0', '4+', 'Social Networking', '37', '1', '29', '1']\n",
      "\n",
      "\n",
      "['389801252', 'Instagram', '113954816', 'USD', '0.0', '2161558', '1289', '4.5', '4.0', '10.23', '12+', 'Photo & Video', '37', '0', '29', '1']\n",
      "\n",
      "\n",
      "['529479190', 'Clash of Clans', '116476928', 'USD', '0.0', '2130805', '579', '4.5', '4.5', '9.24.12', '9+', 'Games', '38', '5', '18', '1']\n",
      "\n",
      "\n",
      "Number of rows: 7197\n",
      "Number of columns: 16\n"
     ]
    }
   ],
   "source": [
    "# Exploring the first three rows of each dataset\n",
    "print('Google Play Data')\n",
    "print('\\n')\n",
    "explore_data(android, 0, 3, True)\n",
    "print('\\n')\n",
    "print('Apple Store Data')\n",
    "print('\\n')\n",
    "explore_data(ios, 0, 3, True)"
   ]
  },
  {
   "cell_type": "markdown",
   "id": "cc922d40-8a4e-453b-a964-c6a5c792d58a",
   "metadata": {},
   "source": [
    "## 3. Data Cleaning <a class=\"anchor\" id=\"chapter3\"></a>"
   ]
  },
  {
   "cell_type": "markdown",
   "id": "5151a1a1-45cb-4e15-ab28-24f3d99b0fb2",
   "metadata": {},
   "source": [
    "Before beginning our analysis, we need to make sure the data we analyze is accurate, or the results of our analysis will be wrong. This means that we need to do the following:\n",
    "\n",
    "* Detect inaccurate data, and correct or remove it.\n",
    "* Detect duplicate data, and remove the duplicates.\n",
    "\n",
    "Recall that at our company, we only build apps that are free to download and install, and we design them for an English-speaking audience. This means that we'll need to do the following:\n",
    "\n",
    "* Remove non-English apps like 爱奇艺PPS -《欢乐颂2》电视剧热播.\n",
    "* Remove apps that aren't free.\n",
    "\n",
    "Let's begin by detecting and deleting wrong data."
   ]
  },
  {
   "cell_type": "markdown",
   "id": "dad48b0b-6177-46b7-ac6b-71927405d1a1",
   "metadata": {},
   "source": [
    "### 3.1 Removing inaccurate data"
   ]
  },
  {
   "cell_type": "markdown",
   "id": "6133bb3c-f560-4a24-a9be-9623cb95e0d0",
   "metadata": {},
   "source": [
    "Let's check our datasets one by one to see if all of the rows in them have the same lengths. If some of the values are missing in a row, it will cause other values to shift left to the wrong column, which would be a problem. Of course, if the missing value is in the last column, it would be less problematic, but let's see what we have."
   ]
  },
  {
   "cell_type": "markdown",
   "id": "dda12f24-e81d-4981-95c8-be328b915bc9",
   "metadata": {},
   "source": [
    "We'll write a function named `check_lengths()` that we can repeatedly use to print out the rows whose length is not equal to a dataset's header row and the index for each of these rows."
   ]
  },
  {
   "cell_type": "code",
   "execution_count": 12,
   "id": "85ba06d1-ff51-4e01-8306-b2bc775b7b82",
   "metadata": {},
   "outputs": [],
   "source": [
    "# Defining the `check_lengths` function\n",
    "def check_lengths(dataset, dataset_header):\n",
    "    \"\"\"\n",
    "    This function prints out the rows whose length is not equal \n",
    "    to a dataset's header row and the index for each of these rows\n",
    "    \"\"\"\n",
    "    is_found = False\n",
    "    for row in dataset:\n",
    "        header_length = len(dataset_header)\n",
    "        row_length = len(row)\n",
    "        if row_length != header_length:\n",
    "            print(row)\n",
    "            print(dataset.index(row))\n",
    "            is_found = True\n",
    "    if not is_found:\n",
    "        print(\"All Good!\")"
   ]
  },
  {
   "cell_type": "code",
   "execution_count": 13,
   "id": "27a79a2d-b8e2-42ec-9c77-585a40c40690",
   "metadata": {},
   "outputs": [
    {
     "name": "stdout",
     "output_type": "stream",
     "text": [
      "['App', 'Category', 'Rating', 'Reviews', 'Size', 'Installs', 'Type', 'Price', 'Content Rating', 'Genres', 'Last Updated', 'Current Ver', 'Android Ver']\n",
      "\n",
      "\n",
      "['Life Made WI-Fi Touchscreen Photo Frame', '1.9', '19', '3.0M', '1,000+', 'Free', '0', 'Everyone', '', 'February 11, 2018', '1.0.19', '4.0 and up']\n",
      "10472\n"
     ]
    }
   ],
   "source": [
    "# Checking the row lenghts in the Google Play dataset\n",
    "print(android_header)\n",
    "print('\\n')\n",
    "check_lengths(android, android_header)"
   ]
  },
  {
   "cell_type": "markdown",
   "id": "f0512f05-afee-42ae-bef3-016d200048af",
   "metadata": {},
   "source": [
    "The output above shows that row *10472* is missing the `Category` column; therefore, all other values have been shifted left to the wrong column. \n",
    "Now, let's check the second dataset:"
   ]
  },
  {
   "cell_type": "code",
   "execution_count": 14,
   "id": "df5fac94-1a0e-4dd6-b972-284b7ac13001",
   "metadata": {},
   "outputs": [
    {
     "name": "stdout",
     "output_type": "stream",
     "text": [
      "['id', 'track_name', 'size_bytes', 'currency', 'price', 'rating_count_tot', 'rating_count_ver', 'user_rating', 'user_rating_ver', 'ver', 'cont_rating', 'prime_genre', 'sup_devices.num', 'ipadSc_urls.num', 'lang.num', 'vpp_lic']\n",
      "\n",
      "\n",
      "All Good!\n"
     ]
    }
   ],
   "source": [
    "# Checking the row lenghts in the Apple Store dataset\n",
    "print(ios_header)\n",
    "print('\\n')\n",
    "check_lengths(ios, ios_header)"
   ]
  },
  {
   "cell_type": "markdown",
   "id": "123fb2db-1c66-423b-9ce5-7713f2af208d",
   "metadata": {},
   "source": [
    "The Apple Store dataset does not have rows of a wrong lenghts.\n",
    "\n",
    "As the row *10472* misses the `Category` value, we'll remove this row. We put `if` clause so we can run this code more than once without deleting other rows. "
   ]
  },
  {
   "cell_type": "code",
   "execution_count": 17,
   "id": "099d0815-b553-4226-aabd-a1482c1b7ab9",
   "metadata": {},
   "outputs": [
    {
     "name": "stdout",
     "output_type": "stream",
     "text": [
      "New number of rows: 10840\n",
      "Number of columns: 13\n"
     ]
    }
   ],
   "source": [
    "if android[10472][0]=='Life Made WI-Fi Touchscreen Photo Frame':\n",
    "    del android[10472]  \n",
    "print('New number of rows:',len(android))\n",
    "print('Number of columns:', len(android[0]))"
   ]
  },
  {
   "cell_type": "code",
   "execution_count": null,
   "id": "5d449e0b-89cb-4034-aa38-a9a447fded1c",
   "metadata": {},
   "outputs": [],
   "source": []
  },
  {
   "cell_type": "code",
   "execution_count": null,
   "id": "26ae68b0-ccb9-4bb8-89c2-1aff9147e92e",
   "metadata": {},
   "outputs": [],
   "source": []
  },
  {
   "cell_type": "code",
   "execution_count": null,
   "id": "b4a8de66-a017-4f46-902f-e9e6875318e5",
   "metadata": {},
   "outputs": [],
   "source": []
  },
  {
   "cell_type": "code",
   "execution_count": null,
   "id": "b69f8d14-ce31-4c09-9c45-5cf871469702",
   "metadata": {},
   "outputs": [],
   "source": []
  },
  {
   "cell_type": "code",
   "execution_count": null,
   "id": "4019af1d-68a6-4817-8cf3-ef0d686493f4",
   "metadata": {},
   "outputs": [],
   "source": []
  },
  {
   "cell_type": "code",
   "execution_count": null,
   "id": "f77d1a23-dc2f-4d26-a6ae-8f87358706ea",
   "metadata": {},
   "outputs": [],
   "source": []
  },
  {
   "cell_type": "markdown",
   "id": "c1687f3e-26ec-4850-b41f-0743a3712466",
   "metadata": {},
   "source": [
    "## Footnotes"
   ]
  },
  {
   "cell_type": "markdown",
   "id": "7542a1a5-87a0-4f2e-ac4e-7f2d07bd16b5",
   "metadata": {},
   "source": [
    "<span id=\"fn1\"> 1. [Number of apps available in leading app stores as of 1st quarter 2021, Statista\n",
    "](https://www.statista.com/statistics/276623/number-of-apps-available-in-leading-app-stores/)</span>"
   ]
  },
  {
   "cell_type": "code",
   "execution_count": null,
   "id": "81c48150-c31f-41ac-b338-075f2c76c0b6",
   "metadata": {},
   "outputs": [],
   "source": [
    "import pandas as pd\n",
    "app_data = pd.read_csv('AppleStore.csv')"
   ]
  },
  {
   "cell_type": "code",
   "execution_count": null,
   "id": "894de384-d7fe-4295-a486-dcbc3a99c811",
   "metadata": {},
   "outputs": [],
   "source": [
    "print(app_data.shape)"
   ]
  },
  {
   "cell_type": "code",
   "execution_count": null,
   "id": "12ae112a-0061-4b97-9c43-51c01d663b3e",
   "metadata": {},
   "outputs": [],
   "source": [
    "# reading in data as a url from NYC Open Data\n",
    "host = 'https://dq-content.s3.amazonaws.com/350/AppleStore.csv'\n",
    "\n",
    "# saving data as a pandas dataframe named 'building_footprints_csv'\n",
    "hate_Crimes = pd.read_csv(host)\n",
    "print(hate_Crimes.shape)"
   ]
  },
  {
   "cell_type": "code",
   "execution_count": null,
   "id": "fe549080-5eec-4b5b-8177-413a83bb93f2",
   "metadata": {},
   "outputs": [],
   "source": [
    "import csv\n",
    "import requests\n",
    "\n",
    "CSV_URL = 'https://dq-content.s3.amazonaws.com/350/googleplaystore.csv'\n",
    "\n",
    "\n",
    "with requests.Session() as s:\n",
    "    download = s.get(CSV_URL)\n",
    "\n",
    "    decoded_content = download.content.decode('utf-8')\n",
    "\n",
    "    cr = csv.reader(decoded_content.splitlines(), delimiter=',')\n",
    "    my_list = list(cr)\n",
    "    \n",
    "explore_data(my_list, 0, 3, True)"
   ]
  },
  {
   "cell_type": "code",
   "execution_count": null,
   "id": "e711e9b5-fb4a-4fb1-93f6-ab9dd86f5aff",
   "metadata": {},
   "outputs": [],
   "source": []
  }
 ],
 "metadata": {
  "kernelspec": {
   "display_name": "Python 3 (ipykernel)",
   "language": "python",
   "name": "python3"
  },
  "language_info": {
   "codemirror_mode": {
    "name": "ipython",
    "version": 3
   },
   "file_extension": ".py",
   "mimetype": "text/x-python",
   "name": "python",
   "nbconvert_exporter": "python",
   "pygments_lexer": "ipython3",
   "version": "3.7.11"
  }
 },
 "nbformat": 4,
 "nbformat_minor": 5
}
