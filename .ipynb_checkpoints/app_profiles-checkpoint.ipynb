{
 "cells": [
  {
   "cell_type": "markdown",
   "id": "1f6d76fe-db23-4e5b-8422-b36ef10378c8",
   "metadata": {},
   "source": [
    "# Profitable App Profiles for the App Store and Google Play Markets"
   ]
  },
  {
   "cell_type": "markdown",
   "id": "b2a7abbf-41cb-4a5e-992f-bf022a4100fc",
   "metadata": {},
   "source": [
    "![Image](https://encrypted-tbn0.gstatic.com/images?q=tbn:ANd9GcTZMG2LTP5xD1lZ9SxeiWuql2IJdUG9ct4Ukg&usqp=CAU)"
   ]
  },
  {
   "cell_type": "markdown",
   "id": "2b34237e-4f3a-4773-bd8f-f360166fe7ce",
   "metadata": {
    "tags": []
   },
   "source": [
    "Table of Contents\n",
    "=================\n",
    "\n",
    "   * [1. Project Overview](#chapter1)\n",
    "   * [2. Getting Started](#chapter2)\n",
    "       * [2.1 Importing relevant libraries and checking their versions](#chapter2.1)\n",
    "       * [2.2 Reading in datasets as lists of lists](#chapter2.2)\n",
    "       * [2.3 Sneak peek at the datasets](#chapter2.3)\n",
    "       \n",
    "       \n",
    "   * [3. Data Cleaning](#chapter3)\n",
    "       * [3.1 Removing inaccurate data](#chapter3.1)\n",
    "       * [3.2 Removing duplicate entries](#chapter3.2)\n",
    "       * [3.3 Removing non-English apps](#chapter3.3)\n",
    "       * [3.3 Isolating the free apps](#chapter3.4)\n",
    "       \n",
    "       \n",
    "   * [4. Conclusion](#-4.-Conclusion))"
   ]
  },
  {
   "cell_type": "markdown",
   "id": "007bd0a7-bdbf-4e45-a14b-20f2aaacb7ef",
   "metadata": {},
   "source": [
    "## 1. Project Overview <a class=\"anchor\" id=\"chapter1\"></a>"
   ]
  },
  {
   "cell_type": "markdown",
   "id": "989db1bf-0cb6-4053-8400-b307bfb4c755",
   "metadata": {},
   "source": [
    "This is a data cleaning and analysis project. *We did not use Numpy or Pandas libraries here for a purpose.*\n",
    "\n",
    "For this project, we'll pretend we're working as data analysts for a company that builds Android and iOS mobile apps. We make our apps available on Google Play and in the App Store.\n",
    "\n",
    "We only build apps that are free to download and install, and our main source of revenue consists of in-app ads. This means that the number of users of our apps determines our revenue for any given app — the more users who see and engage with the ads, the better. Our goal for this project is to analyze data to help our developers understand what type of apps are likely to attract more users.\n",
    "\n"
   ]
  },
  {
   "cell_type": "markdown",
   "id": "6e0c5af9-cb06-4cc8-96ed-09abafaeed32",
   "metadata": {},
   "source": [
    "## 2. Getting started <a class=\"anchor\" id=\"chapter2\"></a>"
   ]
  },
  {
   "cell_type": "markdown",
   "id": "5735370c-6d5e-4887-a7de-97f16e00ddec",
   "metadata": {},
   "source": [
    "### 2.1 Importing relevant libraries and checking their versions <a class=\"anchor\" id=\"chapter2.1\"></a>"
   ]
  },
  {
   "cell_type": "code",
   "execution_count": 1,
   "id": "d9a36c77-a784-466a-a431-ee7ee6c9fa9f",
   "metadata": {},
   "outputs": [],
   "source": [
    "# Importing libraries\n",
    "import requests\n",
    "from csv import reader"
   ]
  },
  {
   "cell_type": "code",
   "execution_count": 2,
   "id": "eab37ba2-8ee8-4873-b9fc-17d68eb6ad82",
   "metadata": {},
   "outputs": [
    {
     "name": "stdout",
     "output_type": "stream",
     "text": [
      "Python implementation: CPython\n",
      "Python version       : 3.9.7\n",
      "IPython version      : 7.29.0\n",
      "\n",
      "requests: 2.26.0\n",
      "csv     : 1.0\n",
      "\n"
     ]
    }
   ],
   "source": [
    "# Printing verions of Python modules and packages with watermark - the IPython magic extension.\n",
    "%load_ext watermark\n",
    "\n",
    "%watermark -v -p requests,csv"
   ]
  },
  {
   "cell_type": "markdown",
   "id": "602d7fcf-fc62-457c-af6d-4b24ff36f99b",
   "metadata": {},
   "source": [
    "### 2.2 Reading in datasets as lists of lists <a class=\"anchor\" id=\"chapter2.2\"></a>"
   ]
  },
  {
   "cell_type": "markdown",
   "id": "43c67cf1-62c6-4184-a7cf-8d9eec30e036",
   "metadata": {},
   "source": [
    "As of 1st quarter of 2021, there were approximately 2 million iOS apps available on the App Store, and 3.5 million Android apps on Google Play[<sup>1</sup>](#fn1).\n",
    "\n",
    "Collecting data for over 4 million apps requires a significant amount of time and money, so we'll try to analyze a sample of the data instead. To avoid spending resources on collecting new data ourselves, we should first try to see if we can find any relevant existing data at no cost. Luckily, here are two data sets that seem suitable for our goals:\n",
    "\n",
    "* [A dataset](https://www.kaggle.com/lava18/google-play-store-apps) containing data about approximately 10,000 Android apps from Google Play; the data was collected in August 2018. You can download the data set directly from this [link](https://dq-content.s3.amazonaws.com/350/googleplaystore.csv).\n",
    "* [A dataset](https://www.kaggle.com/ramamet4/app-store-apple-data-set-10k-apps) containing data about approximately 7,000 iOS apps from the App Store; the data was collected in July 2017. You can download the data set directly from this [link](https://dq-content.s3.amazonaws.com/350/AppleStore.csv)."
   ]
  },
  {
   "cell_type": "markdown",
   "id": "42cbae43-61a9-4239-836d-e14ad6450c06",
   "metadata": {},
   "source": [
    "Now, we will define a function `open_data` to import the two datasets we mentioned above and save them as *list of lists*."
   ]
  },
  {
   "cell_type": "code",
   "execution_count": 3,
   "id": "9c9a553c-e6f9-43d8-a9a2-985c6fe31aad",
   "metadata": {},
   "outputs": [],
   "source": [
    "# Saving links as variables\n",
    "url_android = 'https://dq-content.s3.amazonaws.com/350/googleplaystore.csv'\n",
    "url_ios = 'https://dq-content.s3.amazonaws.com/350/AppleStore.csv'\n",
    "\n",
    "# Defining the `open_data` function\n",
    "def open_data(filename):\n",
    "    \"\"\"\n",
    "    This function takes in a link to a csv file as input and \n",
    "    returns dataset in the list of lists format as output\n",
    "    \"\"\"\n",
    "    with requests.Session() as s:\n",
    "        response = s.get(filename)\n",
    "        decoded_content = response.content.decode('utf-8')\n",
    "        read_file = reader(decoded_content.splitlines(), delimiter=',')\n",
    "        return list(read_file)\n",
    "    \n",
    "\n",
    "# Loading both datasets\n",
    "android = open_data(url_android)   \n",
    "android_header = android[0]\n",
    "android = android[1:]\n",
    "\n",
    "ios = open_data(url_ios) \n",
    "ios_header = ios[0]\n",
    "ios = ios[1:]"
   ]
  },
  {
   "cell_type": "markdown",
   "id": "f9c6a4f1-68d2-4cd2-a942-53f3d508f2c2",
   "metadata": {},
   "source": [
    "### 2.3 Sneak peek at the datasets <a class=\"anchor\" id=\"chapter2.3\"></a>"
   ]
  },
  {
   "cell_type": "markdown",
   "id": "ce080a05-ec86-4612-9613-d360d4f8fa1f",
   "metadata": {},
   "source": [
    "Let's print the column names and take a look at the data dictionaries to try to identify the columns that could help us with our analysis."
   ]
  },
  {
   "cell_type": "code",
   "execution_count": 4,
   "id": "8b88be13-4d7b-4773-a8e9-c33a46503c09",
   "metadata": {},
   "outputs": [
    {
     "name": "stdout",
     "output_type": "stream",
     "text": [
      "['App', 'Category', 'Rating', 'Reviews', 'Size', 'Installs', 'Type', 'Price', 'Content Rating', 'Genres', 'Last Updated', 'Current Ver', 'Android Ver']\n"
     ]
    }
   ],
   "source": [
    "# Exploring the columns names for the Google Play dataset\n",
    "print(android_header)"
   ]
  },
  {
   "cell_type": "markdown",
   "id": "13f2f583-39dc-4ebf-80af-7ea5bc7c17a8",
   "metadata": {},
   "source": [
    "                                           Data Dictionary for the Google Play dataset\n",
    "---------------------------------------------\n",
    "| Column Name | Description | \n",
    "| ------------ | ------------- | \n",
    "| App | Application name | \n",
    "| Category | Category the app belongs to | \n",
    "| Rating | Overall user rating of the app (as when scraped) | \n",
    "| Reviews | Number of user reviews for the app (as when scraped) | \n",
    "| Size | Size of the app (as when scraped) |\n",
    "| Installs | Number of user downloads/installs for the app (as when scraped)  | \n",
    "| Type | Paid or Free |\n",
    "| Price | Price of the app (as when scraped) | \n",
    "| Content Rating | Age group the app is targeted at - Children / Mature 21+ / Adult |\n",
    "| Genres | An app can belong to multiple genres (apart from its main category). For eg, a musical family game will belong to Music, Game, Family genres. |\n",
    "| Last Updated | Date when the app was last updated on Play Store (as when scraped) |\n",
    "| Current Ver | Current version of the app available on Play Store (as when scraped) |\n",
    "| Android Ver | Min required Android version (as when scraped) |  \n"
   ]
  },
  {
   "cell_type": "code",
   "execution_count": 5,
   "id": "d9080222-942f-41d5-8979-a2c4392d62f6",
   "metadata": {},
   "outputs": [
    {
     "name": "stdout",
     "output_type": "stream",
     "text": [
      "['id', 'track_name', 'size_bytes', 'currency', 'price', 'rating_count_tot', 'rating_count_ver', 'user_rating', 'user_rating_ver', 'ver', 'cont_rating', 'prime_genre', 'sup_devices.num', 'ipadSc_urls.num', 'lang.num', 'vpp_lic']\n"
     ]
    }
   ],
   "source": [
    "# Exploring the columns names for the App Store dataset\n",
    "print(ios_header)"
   ]
  },
  {
   "cell_type": "markdown",
   "id": "8326591c-f2ea-4676-8931-f28d77da1a84",
   "metadata": {},
   "source": [
    "                                          Data Dictionary for the App Store dataset\n",
    "---------------------------------------------\n",
    "| Column Name | Description | \n",
    "| ------------ | ------------- | \n",
    "| id | App ID | \n",
    "| track_name | App Name | \n",
    "| size_bytes | Size (in Bytes) | \n",
    "| currency | Currency Type | \n",
    "| price | Price amount |\n",
    "| rating_count_tot | User Rating counts (for all version) | \n",
    "| rating_count_ver | User Rating counts (for current version) |\n",
    "| user_rating | Average User Rating value (for all version) | \n",
    "| user_rating_ver | Average User Rating value (for current version) |\n",
    "| ver | Latest version code |\n",
    "| cont_rating | Content Rating |\n",
    "| prime_genre | Primary Genre |\n",
    "| sup_devices.num | Number of supporting devices |  \n",
    "| ipadSc_urls.num | Number of screenshots showed for display |  \n",
    "| lang.num | Number of supported languages |  \n",
    "| vpp_lic | Vpp Device Based Licensing Enabled |  "
   ]
  },
  {
   "cell_type": "markdown",
   "id": "d4381c65-87c4-442b-9dbe-bb66bd0610d9",
   "metadata": {},
   "source": [
    "At a quick glance, the columns that might be useful for the purpose of our analysis are: `App` and `track_name`,  `Category` and 'prime_genre',  `Installs` and `rating_count_tot`, `Price` and `price`."
   ]
  },
  {
   "cell_type": "markdown",
   "id": "f5527ea4-9d16-488c-b9c1-f929c60d4a1b",
   "metadata": {},
   "source": [
    "To make it easier to explore the two datasets, we'll write a function named `explore_data()` that we can use repeatedly to explore rows in a more readable way. We'll also add an option for our function to show the number of rows and columns for any dataset."
   ]
  },
  {
   "cell_type": "code",
   "execution_count": 6,
   "id": "ff906e7a-abef-49fc-b760-d10b8d295e92",
   "metadata": {},
   "outputs": [],
   "source": [
    "# Defining the `explore_data` function\n",
    "def explore_data(dataset, start, end, rows_and_columns=False):\n",
    "    \"\"\"\n",
    "    This function loops through the slice of a dataset, \n",
    "    and for each iteration, prints a row and adds a new line after that row, \n",
    "    and prints the number of rows and columns if `rows_and_columns` is `True`\n",
    "    \"\"\"\n",
    "    dataset_slice = dataset[start:end]    \n",
    "    for row in dataset_slice:\n",
    "        print(row)\n",
    "        print('\\n') # adds a new (empty) line after each row\n",
    "\n",
    "    if rows_and_columns:\n",
    "        print('Number of rows:', len(dataset))\n",
    "        print('Number of columns:', len(dataset[0]))"
   ]
  },
  {
   "cell_type": "code",
   "execution_count": 7,
   "id": "739d07ef-d1d8-4665-a4d0-d88d7f33b843",
   "metadata": {},
   "outputs": [
    {
     "name": "stdout",
     "output_type": "stream",
     "text": [
      "Google Play Data\n",
      "\n",
      "\n",
      "['Photo Editor & Candy Camera & Grid & ScrapBook', 'ART_AND_DESIGN', '4.1', '159', '19M', '10,000+', 'Free', '0', 'Everyone', 'Art & Design', 'January 7, 2018', '1.0.0', '4.0.3 and up']\n",
      "\n",
      "\n",
      "['Coloring book moana', 'ART_AND_DESIGN', '3.9', '967', '14M', '500,000+', 'Free', '0', 'Everyone', 'Art & Design;Pretend Play', 'January 15, 2018', '2.0.0', '4.0.3 and up']\n",
      "\n",
      "\n",
      "['U Launcher Lite – FREE Live Cool Themes, Hide Apps', 'ART_AND_DESIGN', '4.7', '87510', '8.7M', '5,000,000+', 'Free', '0', 'Everyone', 'Art & Design', 'August 1, 2018', '1.2.4', '4.0.3 and up']\n",
      "\n",
      "\n",
      "Number of rows: 10841\n",
      "Number of columns: 13\n",
      "\n",
      "\n",
      "Apple Store Data\n",
      "\n",
      "\n",
      "['284882215', 'Facebook', '389879808', 'USD', '0.0', '2974676', '212', '3.5', '3.5', '95.0', '4+', 'Social Networking', '37', '1', '29', '1']\n",
      "\n",
      "\n",
      "['389801252', 'Instagram', '113954816', 'USD', '0.0', '2161558', '1289', '4.5', '4.0', '10.23', '12+', 'Photo & Video', '37', '0', '29', '1']\n",
      "\n",
      "\n",
      "['529479190', 'Clash of Clans', '116476928', 'USD', '0.0', '2130805', '579', '4.5', '4.5', '9.24.12', '9+', 'Games', '38', '5', '18', '1']\n",
      "\n",
      "\n",
      "Number of rows: 7197\n",
      "Number of columns: 16\n"
     ]
    }
   ],
   "source": [
    "# Exploring the first three rows of each dataset\n",
    "print('Google Play Data')\n",
    "print('\\n')\n",
    "explore_data(android, 0, 3, True)\n",
    "print('\\n')\n",
    "print('Apple Store Data')\n",
    "print('\\n')\n",
    "explore_data(ios, 0, 3, True)"
   ]
  },
  {
   "cell_type": "markdown",
   "id": "cc922d40-8a4e-453b-a964-c6a5c792d58a",
   "metadata": {},
   "source": [
    "## 3. Data Cleaning <a class=\"anchor\" id=\"chapter3\"></a>"
   ]
  },
  {
   "cell_type": "markdown",
   "id": "5151a1a1-45cb-4e15-ab28-24f3d99b0fb2",
   "metadata": {},
   "source": [
    "Before beginning our analysis, we need to make sure the data we analyze is accurate, or the results of our analysis will be wrong. This means that we need to do the following:\n",
    "\n",
    "* Detect inaccurate data, and correct or remove it.\n",
    "* Detect duplicate data, and remove the duplicates.\n",
    "\n",
    "Recall that at our company, we only build apps that are free to download and install, and we design them for an English-speaking audience. This means that we'll need to do the following:\n",
    "\n",
    "* Remove non-English apps like 爱奇艺PPS -《欢乐颂2》电视剧热播.\n",
    "* Remove apps that aren't free.\n",
    "\n",
    "Let's begin by detecting and deleting wrong data."
   ]
  },
  {
   "cell_type": "markdown",
   "id": "dad48b0b-6177-46b7-ac6b-71927405d1a1",
   "metadata": {},
   "source": [
    "### 3.1 Removing inaccurate data <a class=\"anchor\" id=\"chapter3.1\"></a>"
   ]
  },
  {
   "cell_type": "markdown",
   "id": "6133bb3c-f560-4a24-a9be-9623cb95e0d0",
   "metadata": {},
   "source": [
    "Let's check our datasets one by one to see if all of the rows in them have the same lengths. If some of the values are missing in a row, it will cause other values to shift left to the wrong column, which would be a problem. Of course, if the missing value is in the last column, it would be less problematic, but let's see what we have."
   ]
  },
  {
   "cell_type": "markdown",
   "id": "dda12f24-e81d-4981-95c8-be328b915bc9",
   "metadata": {},
   "source": [
    "We'll write a function named `check_lengths()` that we can repeatedly use to print out the rows whose length is not equal to a dataset's header row and the index for each of these rows."
   ]
  },
  {
   "cell_type": "code",
   "execution_count": 8,
   "id": "85ba06d1-ff51-4e01-8306-b2bc775b7b82",
   "metadata": {},
   "outputs": [],
   "source": [
    "# Defining the `check_lengths` function\n",
    "def check_lengths(dataset, dataset_header):\n",
    "    \"\"\"\n",
    "    This function prints out the rows whose length is not equal \n",
    "    to a dataset's header row and the index for each of these rows\n",
    "    \"\"\"\n",
    "    is_found = False\n",
    "    for row in dataset:\n",
    "        header_length = len(dataset_header)\n",
    "        row_length = len(row)\n",
    "        if row_length != header_length:\n",
    "            print(row)\n",
    "            print(dataset.index(row))\n",
    "            is_found = True\n",
    "    if not is_found:\n",
    "        print(\"All Good!\")"
   ]
  },
  {
   "cell_type": "code",
   "execution_count": 9,
   "id": "27a79a2d-b8e2-42ec-9c77-585a40c40690",
   "metadata": {},
   "outputs": [
    {
     "name": "stdout",
     "output_type": "stream",
     "text": [
      "['App', 'Category', 'Rating', 'Reviews', 'Size', 'Installs', 'Type', 'Price', 'Content Rating', 'Genres', 'Last Updated', 'Current Ver', 'Android Ver']\n",
      "\n",
      "\n",
      "['Life Made WI-Fi Touchscreen Photo Frame', '1.9', '19', '3.0M', '1,000+', 'Free', '0', 'Everyone', '', 'February 11, 2018', '1.0.19', '4.0 and up']\n",
      "10472\n"
     ]
    }
   ],
   "source": [
    "# Checking the row lenghts in the Google Play dataset\n",
    "print(android_header)\n",
    "print('\\n')\n",
    "check_lengths(android, android_header)"
   ]
  },
  {
   "cell_type": "markdown",
   "id": "f0512f05-afee-42ae-bef3-016d200048af",
   "metadata": {},
   "source": [
    "The output above shows that row *10472* is missing the `Category` column; therefore, all other values have been shifted left to the wrong column. \n",
    "Now, let's check the second dataset:"
   ]
  },
  {
   "cell_type": "code",
   "execution_count": 10,
   "id": "df5fac94-1a0e-4dd6-b972-284b7ac13001",
   "metadata": {},
   "outputs": [
    {
     "name": "stdout",
     "output_type": "stream",
     "text": [
      "['id', 'track_name', 'size_bytes', 'currency', 'price', 'rating_count_tot', 'rating_count_ver', 'user_rating', 'user_rating_ver', 'ver', 'cont_rating', 'prime_genre', 'sup_devices.num', 'ipadSc_urls.num', 'lang.num', 'vpp_lic']\n",
      "\n",
      "\n",
      "All Good!\n"
     ]
    }
   ],
   "source": [
    "# Checking the row lenghts in the Apple Store dataset\n",
    "print(ios_header)\n",
    "print('\\n')\n",
    "check_lengths(ios, ios_header)"
   ]
  },
  {
   "cell_type": "markdown",
   "id": "123fb2db-1c66-423b-9ce5-7713f2af208d",
   "metadata": {},
   "source": [
    "The Apple Store dataset does not have rows of a wrong lenghts.\n",
    "\n",
    "As the row *10472* misses the `Category` value, we'll remove this row. We put `if` clause so we can run this code more than once without deleting other rows. "
   ]
  },
  {
   "cell_type": "code",
   "execution_count": 11,
   "id": "099d0815-b553-4226-aabd-a1482c1b7ab9",
   "metadata": {},
   "outputs": [
    {
     "name": "stdout",
     "output_type": "stream",
     "text": [
      "New number of rows: 10840\n",
      "Number of columns: 13\n"
     ]
    }
   ],
   "source": [
    "# Deliting inaccurate row\n",
    "if android[10472][0]=='Life Made WI-Fi Touchscreen Photo Frame':\n",
    "    del android[10472]  \n",
    "print('New number of rows:',len(android))\n",
    "print('Number of columns:', len(android[0]))"
   ]
  },
  {
   "cell_type": "markdown",
   "id": "192653f2-7976-43c1-99d1-b26d75ee825e",
   "metadata": {},
   "source": [
    "### 3.2 Removing duplicate entries <a class=\"anchor\" id=\"chapter3.2\"></a>"
   ]
  },
  {
   "cell_type": "markdown",
   "id": "ace05d08-658f-42f1-8e88-6a0ce960863b",
   "metadata": {},
   "source": [
    "The Google Play dataset has a dedicated [discussion](https://www.kaggle.com/lava18/google-play-store-apps/discussion) section, and we can see that [one of the discussions](https://www.kaggle.com/lava18/google-play-store-apps/discussion/67894) raises a problem of some apps have duplicate entries.\n",
    "\n",
    "Let's write some code and confirm the data has duplicate entries."
   ]
  },
  {
   "cell_type": "code",
   "execution_count": 12,
   "id": "26ae68b0-ccb9-4bb8-89c2-1aff9147e92e",
   "metadata": {},
   "outputs": [
    {
     "name": "stdout",
     "output_type": "stream",
     "text": [
      "Number of duplicate apps in the Google Play dataset: 1181\n",
      "\n",
      "\n",
      "Examples of duplicate apps in the Google Play dataset: ['Free Blood Pressure', 'All Mental disorders', 'Nurse Grid', 'JH Blood Pressure Monitor', 'Blood Pressure', 'RT 516 VET', 'Anthem Anywhere', 'Sway Medical', \"fred's Pharmacy\", 'Breastfeeding Tracker Baby Log', 'Banfield Pet Health Tracker', '1800 Contacts - Lens Store', 'TextNow - free text + calls', 'Tumblr', 'Snapchat', 'Instagram', 'Periscope - Live Video', 'Snapchat', 'Instagram', 'Pinterest']\n"
     ]
    }
   ],
   "source": [
    "# Writing a loop to spot duplicate entries\n",
    "duplicate_apps = []\n",
    "unique_apps = []\n",
    "\n",
    "for app in android:\n",
    "    name = app[0]\n",
    "    if name in unique_apps:\n",
    "        duplicate_apps.append(name)\n",
    "    else:\n",
    "        unique_apps.append(name)\n",
    "    \n",
    "print('Number of duplicate apps in the Google Play dataset:', len(duplicate_apps))\n",
    "print('\\n')\n",
    "print('Examples of duplicate apps in the Google Play dataset:', duplicate_apps[530:550])"
   ]
  },
  {
   "cell_type": "markdown",
   "id": "34db4ef1-0eb8-4ca0-a989-ba15b6b51495",
   "metadata": {},
   "source": [
    "For the Google Play dataset, we have *1181* cases where an app occurs more than once. We don't want to count certain apps more than once when we analyze data, so we need to remove the duplicate entries and keep only one entry per app. To come up with a method of removing the duplicate rows, let's print the duplicate entries for a popular app and see which version is the most up-to-date."
   ]
  },
  {
   "cell_type": "code",
   "execution_count": 13,
   "id": "b69f8d14-ce31-4c09-9c45-5cf871469702",
   "metadata": {},
   "outputs": [
    {
     "name": "stdout",
     "output_type": "stream",
     "text": [
      "\n",
      " ['App', 'Category', 'Rating', 'Reviews', 'Size', 'Installs', 'Type', 'Price', 'Content Rating', 'Genres', 'Last Updated', 'Current Ver', 'Android Ver'] \n",
      "\n",
      "['Instagram', 'SOCIAL', '4.5', '66577313', 'Varies with device', '1,000,000,000+', 'Free', '0', 'Teen', 'Social', 'July 31, 2018', 'Varies with device', 'Varies with device']\n",
      "['Instagram', 'SOCIAL', '4.5', '66577446', 'Varies with device', '1,000,000,000+', 'Free', '0', 'Teen', 'Social', 'July 31, 2018', 'Varies with device', 'Varies with device']\n",
      "['Instagram', 'SOCIAL', '4.5', '66577313', 'Varies with device', '1,000,000,000+', 'Free', '0', 'Teen', 'Social', 'July 31, 2018', 'Varies with device', 'Varies with device']\n",
      "['Instagram', 'SOCIAL', '4.5', '66509917', 'Varies with device', '1,000,000,000+', 'Free', '0', 'Teen', 'Social', 'July 31, 2018', 'Varies with device', 'Varies with device']\n"
     ]
    }
   ],
   "source": [
    "# Taking a closer look at duplicate entries for the Instagram app\n",
    "\n",
    "print('\\n',android_header,'\\n') \n",
    "\n",
    "for app in android:\n",
    "    name = app[0]\n",
    "    if name == 'Instagram':\n",
    "        print(app)"
   ]
  },
  {
   "cell_type": "markdown",
   "id": "61ba77e9-e4d4-4eb7-9f32-cfa413abb63d",
   "metadata": {},
   "source": [
    "If you examine the rows we printed for the Instagram app, the main difference happens on the fourth position of each row, which corresponds to the number of reviews. The different numbers show the data was collected at different times."
   ]
  },
  {
   "cell_type": "markdown",
   "id": "2df770e6-4b3d-4eda-91fd-60e64b43b3f6",
   "metadata": {},
   "source": [
    "We can use this information to build a criterion for removing the duplicates. The higher the number of reviews, the more recent the data should be. Rather than removing duplicates randomly, we'll only keep the row with the highest number of reviews and remove the other entries for any given app."
   ]
  },
  {
   "cell_type": "markdown",
   "id": "f1bef016-4038-4db0-993d-8a9b070e2c5f",
   "metadata": {},
   "source": [
    "To remove the duplicates, we will:\n",
    "\n",
    "* Create a dictionary, where each dictionary key is a unique app name and the corresponding dictionary value is the highest number of reviews of that app.\n",
    "* Use the information stored in the dictionary and create a new data set, which will have only one entry per app (and for each app, we'll only select the entry with the highest number of reviews)."
   ]
  },
  {
   "cell_type": "code",
   "execution_count": 14,
   "id": "c6c4879f-d193-4ca5-9989-5a6e86a09f01",
   "metadata": {},
   "outputs": [],
   "source": [
    "# Creating a dictionary with all unique apps and their highest number of reviews \n",
    "\n",
    "reviews_max={}\n",
    "for row in android:\n",
    "    name=row[0]\n",
    "    n_reviews=float(row[3])\n",
    "    if name in reviews_max and reviews_max[name] < n_reviews:\n",
    "        reviews_max[name]= n_reviews\n",
    "    elif name not in reviews_max:\n",
    "        reviews_max[name] = n_reviews"
   ]
  },
  {
   "cell_type": "markdown",
   "id": "cdd2ad9c-45d9-45a3-ae88-25ab6cec86a3",
   "metadata": {},
   "source": [
    "In a previous code cell, we found that there are *1181* cases where an app occurs more than once, so the length of our dictionary (of unique apps) should be equal to the difference between the length of our data set and *1181*."
   ]
  },
  {
   "cell_type": "code",
   "execution_count": 15,
   "id": "70639f0b-6357-48e3-91fc-794926e82e39",
   "metadata": {},
   "outputs": [
    {
     "name": "stdout",
     "output_type": "stream",
     "text": [
      "Expected length: 9659\n",
      "The length of the dictionary: 9659\n",
      "Actual length: 10840\n"
     ]
    }
   ],
   "source": [
    "print('Expected length:', len(android) - 1181)\n",
    "print('The length of the dictionary:', len(reviews_max))\n",
    "print('Actual length:', len(android))"
   ]
  },
  {
   "cell_type": "markdown",
   "id": "caef1903-18f9-41ae-804d-47ca757c9776",
   "metadata": {},
   "source": [
    "Let's use the dictionary `reviews_max` we created above to remove the duplicate rows.\n",
    "In the code cell below:\n",
    "\n",
    "* We start by initializing two empty lists, `android_clean` and `already_added`.\n",
    "* We loop through the Google Play data set, and for every iteration:\n",
    "    * We isolate the name of the app and the number of reviews.\n",
    "    * We add the current row (`row`) to the `android_clean`, and the app name (`name`) to the `already_added` list if:\n",
    "        + The number of reviews of the current app matches the number of reviews of that app as described in the `reviews_max` dictionary; \n",
    "        + And the name of the app is not already in the `already_added` list. We need to add this supplementary condition to account for those cases where the highest number of reviews of a duplicate app is the same for more than one entry (for example, the Box app has three entries, and the number of reviews is the same). If we just check for `reviews_max[name] == n_reviews`, we'll still end up with duplicate entries for some apps."
   ]
  },
  {
   "cell_type": "code",
   "execution_count": 16,
   "id": "0936daee-e2f5-46f2-a7b7-b0b5401e67e8",
   "metadata": {},
   "outputs": [
    {
     "name": "stdout",
     "output_type": "stream",
     "text": [
      "['Photo Editor & Candy Camera & Grid & ScrapBook', 'ART_AND_DESIGN', '4.1', '159', '19M', '10,000+', 'Free', '0', 'Everyone', 'Art & Design', 'January 7, 2018', '1.0.0', '4.0.3 and up']\n",
      "\n",
      "\n",
      "['U Launcher Lite – FREE Live Cool Themes, Hide Apps', 'ART_AND_DESIGN', '4.7', '87510', '8.7M', '5,000,000+', 'Free', '0', 'Everyone', 'Art & Design', 'August 1, 2018', '1.2.4', '4.0.3 and up']\n",
      "\n",
      "\n",
      "['Sketch - Draw & Paint', 'ART_AND_DESIGN', '4.5', '215644', '25M', '50,000,000+', 'Free', '0', 'Teen', 'Art & Design', 'June 8, 2018', 'Varies with device', '4.2 and up']\n",
      "\n",
      "\n",
      "Number of rows: 9659\n",
      "Number of columns: 13\n"
     ]
    }
   ],
   "source": [
    "# Removing the duplicate rows\n",
    "\n",
    "android_clean=[]\n",
    "already_added=[]\n",
    "for row in android:\n",
    "    name=row[0]\n",
    "    n_reviews=float(row[3])\n",
    "    if (n_reviews == reviews_max[name]) and (name not in already_added):\n",
    "        android_clean.append(row)\n",
    "        already_added.append(name) #his helps us to keep track of apps that we already added\n",
    "explore_data(android_clean, 0, 3, True)"
   ]
  },
  {
   "cell_type": "code",
   "execution_count": 17,
   "id": "c78f3116-1cdc-4a91-8665-4a4657a60648",
   "metadata": {},
   "outputs": [
    {
     "name": "stdout",
     "output_type": "stream",
     "text": [
      "Expected length: 9659\n",
      "Actual length: 9659\n"
     ]
    }
   ],
   "source": [
    "print('Expected length:', len(android) - 1181)\n",
    "print('Actual length:', len(android_clean))"
   ]
  },
  {
   "cell_type": "markdown",
   "id": "842725d9-6c2c-402c-b433-5bc86d552322",
   "metadata": {},
   "source": [
    "Let's take a look if there are any duplicates in the Apple Store data:"
   ]
  },
  {
   "cell_type": "code",
   "execution_count": 18,
   "id": "ff5e4aa3-dffb-4444-88ae-ae2e4004d3a0",
   "metadata": {},
   "outputs": [
    {
     "name": "stdout",
     "output_type": "stream",
     "text": [
      "Number of duplicate apps in the Apple Store dataset: 0\n"
     ]
    }
   ],
   "source": [
    "# Writing a loop to spot duplicate entries\n",
    "duplicate_apps = []\n",
    "unique_apps = []\n",
    "\n",
    "for app in ios:\n",
    "    name = app[0]\n",
    "    if name in unique_apps:\n",
    "        duplicate_apps.append(name)\n",
    "    else:\n",
    "        unique_apps.append(name)\n",
    "    \n",
    "print('Number of duplicate apps in the Apple Store dataset:', len(duplicate_apps))"
   ]
  },
  {
   "cell_type": "markdown",
   "id": "97d8c2e1-8a53-4e38-85f6-9f4fb2bc3eb0",
   "metadata": {},
   "source": [
    "For the App Store data because there are no duplicates."
   ]
  },
  {
   "cell_type": "markdown",
   "id": "131fd4b9-f626-41ea-ab26-0cd8cc253dec",
   "metadata": {},
   "source": [
    "### 3.3 Removing non-English apps <a class=\"anchor\" id=\"chapter3.3\"></a> "
   ]
  },
  {
   "cell_type": "markdown",
   "id": "4b353e12-5eec-495d-a93b-8f6e990b216d",
   "metadata": {},
   "source": [
    "For this particular analysis, we are interested only in English-speaking audience. However, if we explore the data long enough, we'll find that both data sets have apps with names that suggest they are not directed toward an English-speaking audience. Below, we see a couple of examples from both data sets:"
   ]
  },
  {
   "cell_type": "code",
   "execution_count": 33,
   "id": "56e88fea-f2be-4ffa-98ed-c3acbe8970da",
   "metadata": {},
   "outputs": [
    {
     "name": "stdout",
     "output_type": "stream",
     "text": [
      "爱奇艺PPS -《欢乐颂2》电视剧热播\n",
      "【脱出ゲーム】絶対に最後までプレイしないで 〜謎解き＆ブロックパズル〜\n",
      "中国語 AQリスニング\n",
      "لعبة تقدر تربح DZ\n"
     ]
    }
   ],
   "source": [
    "print(ios[813][1])\n",
    "print(ios[6731][1])\n",
    "print(android_clean[4412][0])\n",
    "print(android_clean[7940][0])"
   ]
  },
  {
   "cell_type": "markdown",
   "id": "e53d6e87-1753-4a2a-9a32-f6f209ed217d",
   "metadata": {},
   "source": [
    "We're not interested in keeping these apps, so we'll remove them. One way to do this is to remove each app with a name containing a symbol that isn't commonly used in English text — English text usually includes letters from the English alphabet, numbers composed of digits from 0 to 9, punctuation marks (., !, ?, ;), and other symbols (+, *, /).\n",
    "\n",
    "Behind the scenes, each character we use in a string has a corresponding number associated with it. For instance, the corresponding number for character `'a'` is 97, character `'A'` is 65, and character `'爱'` is 29,233. We can get the corresponding number of each character using the [`ord()` built-in function](https://docs.python.org/3/library/functions.html#ord).\n",
    "\n",
    "The numbers corresponding to the characters we commonly use in an English text are all in the range 0 to 127, according to the [ASCII](https://en.wikipedia.org/wiki/ASCII) (American Standard Code for Information Interchange) system. Based on this number range, we can build a function that detects whether a character belongs to the set of common English characters or not. If the number is equal to or less than 127, then the character belongs to the set of common English characters."
   ]
  },
  {
   "cell_type": "code",
   "execution_count": 25,
   "id": "eb2404c2-e8b9-477e-9794-a63e7c432cfc",
   "metadata": {},
   "outputs": [
    {
     "name": "stdout",
     "output_type": "stream",
     "text": [
      "True\n",
      "False\n"
     ]
    }
   ],
   "source": [
    "# Defing a function that detects whether a character belongs to the set of common English characters or not\n",
    "def eng_apps(string):\n",
    "    for each in string:\n",
    "        if ord(each)>127:\n",
    "            return False\n",
    "    return True\n",
    "print(eng_apps('Instagram'))\n",
    "print(eng_apps('爱奇艺PPS -《欢乐颂2》电视剧热播'))"
   ]
  },
  {
   "cell_type": "markdown",
   "id": "82d5e689-1398-43f7-b3c9-efd815357b71",
   "metadata": {},
   "source": [
    "The function seems to work fine, but some English app names use emojis or other symbols (™, etc.) that fall outside of the ASCII range. Because of this, we'll remove useful apps if we use the function in its current form."
   ]
  },
  {
   "cell_type": "code",
   "execution_count": 32,
   "id": "482b5c8b-e37d-45a1-b7ca-561961b46cab",
   "metadata": {},
   "outputs": [
    {
     "name": "stdout",
     "output_type": "stream",
     "text": [
      "True\n",
      "True\n",
      "8482\n",
      "128540\n"
     ]
    }
   ],
   "source": [
    "print(eng_apps('Docs To Go™ Free Office Suite'))\n",
    "print(eng_apps('Instachat 😜'))\n",
    "print(ord('™'))\n",
    "print(ord('😜'))"
   ]
  },
  {
   "cell_type": "markdown",
   "id": "dbc5b81d-cb11-4d7b-bd40-a358a452752e",
   "metadata": {},
   "source": [
    "If we're going to use the function we've created, we'll lose useful data since many English apps will be incorrectly labeled as non-English. To minimize the impact of data loss, we'll only remove an app if its name has more than three characters with corresponding numbers falling outside the ASCII range. This means all English apps with up to three emoji or other special characters will still be labeled as English. Our filter function is still not perfect, but it should be fairly effective."
   ]
  },
  {
   "cell_type": "code",
   "execution_count": 28,
   "id": "fe16a296-fc18-4594-b484-163bcc24c170",
   "metadata": {},
   "outputs": [
    {
     "name": "stdout",
     "output_type": "stream",
     "text": [
      "True\n",
      "False\n"
     ]
    }
   ],
   "source": [
    "# Defing a function that detects whether more than three characters with corresponding numbers falling outside the ASCII range\n",
    "def eng_apps(string):\n",
    "    is_eng=0\n",
    "    for each in string:\n",
    "        if ord(each)>127:\n",
    "            is_eng +=1\n",
    "    if is_eng > 3:\n",
    "        return False\n",
    "    else:\n",
    "        return True\n",
    "print(eng_apps('Instachat 😜'))\n",
    "print(eng_apps('爱奇艺PPS -《欢乐颂2》电视剧热播'))"
   ]
  },
  {
   "cell_type": "markdown",
   "id": "5b0fd12d-d6e3-4ecf-9819-1c95c1ac708b",
   "metadata": {},
   "source": [
    "The function is still not perfect, and very few non-English apps might get past our filter, but this seems good enough at this point in our analysis — we shouldn't spend too much time on optimization at this point.\n",
    "\n",
    "Below, we use the is_english() function to filter out the non-English apps for both data sets:"
   ]
  },
  {
   "cell_type": "code",
   "execution_count": 34,
   "id": "4f807e88-1845-4df6-9cd0-2bcbb1e5ae9d",
   "metadata": {},
   "outputs": [
    {
     "name": "stdout",
     "output_type": "stream",
     "text": [
      "\n",
      " ['App', 'Category', 'Rating', 'Reviews', 'Size', 'Installs', 'Type', 'Price', 'Content Rating', 'Genres', 'Last Updated', 'Current Ver', 'Android Ver'] \n",
      "\n",
      "['Photo Editor & Candy Camera & Grid & ScrapBook', 'ART_AND_DESIGN', '4.1', '159', '19M', '10,000+', 'Free', '0', 'Everyone', 'Art & Design', 'January 7, 2018', '1.0.0', '4.0.3 and up']\n",
      "\n",
      "\n",
      "['U Launcher Lite – FREE Live Cool Themes, Hide Apps', 'ART_AND_DESIGN', '4.7', '87510', '8.7M', '5,000,000+', 'Free', '0', 'Everyone', 'Art & Design', 'August 1, 2018', '1.2.4', '4.0.3 and up']\n",
      "\n",
      "\n",
      "['Sketch - Draw & Paint', 'ART_AND_DESIGN', '4.5', '215644', '25M', '50,000,000+', 'Free', '0', 'Teen', 'Art & Design', 'June 8, 2018', 'Varies with device', '4.2 and up']\n",
      "\n",
      "\n",
      "Number of rows: 9614\n",
      "Number of columns: 13\n",
      "\n",
      " ['id', 'track_name', 'size_bytes', 'currency', 'price', 'rating_count_tot', 'rating_count_ver', 'user_rating', 'user_rating_ver', 'ver', 'cont_rating', 'prime_genre', 'sup_devices.num', 'ipadSc_urls.num', 'lang.num', 'vpp_lic'] \n",
      "\n",
      "['284882215', 'Facebook', '389879808', 'USD', '0.0', '2974676', '212', '3.5', '3.5', '95.0', '4+', 'Social Networking', '37', '1', '29', '1']\n",
      "\n",
      "\n",
      "['389801252', 'Instagram', '113954816', 'USD', '0.0', '2161558', '1289', '4.5', '4.0', '10.23', '12+', 'Photo & Video', '37', '0', '29', '1']\n",
      "\n",
      "\n",
      "['529479190', 'Clash of Clans', '116476928', 'USD', '0.0', '2130805', '579', '4.5', '4.5', '9.24.12', '9+', 'Games', '38', '5', '18', '1']\n",
      "\n",
      "\n",
      "Number of rows: 6183\n",
      "Number of columns: 16\n"
     ]
    }
   ],
   "source": [
    "android_english = []\n",
    "ios_english = []\n",
    "\n",
    "for app in android_clean:\n",
    "    name = app[0]\n",
    "    if eng_apps(name):\n",
    "        android_english.append(app)\n",
    "        \n",
    "for app in ios:\n",
    "    name = app[1]\n",
    "    if eng_apps(name):\n",
    "        ios_english.append(app)\n",
    "\n",
    "print('\\n',android_header,'\\n')\n",
    "explore_data(android_english, 0, 3, True)\n",
    "print('\\n',ios_header,'\\n')\n",
    "explore_data(ios_english, 0, 3, True)"
   ]
  },
  {
   "cell_type": "markdown",
   "id": "761937da-fae1-4bb1-94a2-597bd1e5d408",
   "metadata": {},
   "source": [
    "### 3.4 Isolating the free apps <a class=\"anchor\" id=\"chapter3.4\"></a> "
   ]
  },
  {
   "cell_type": "code",
   "execution_count": null,
   "id": "0bfd9860-12eb-4f7a-9602-4d673aac6999",
   "metadata": {},
   "outputs": [],
   "source": []
  },
  {
   "cell_type": "code",
   "execution_count": null,
   "id": "4bf5882f-1320-4f98-b555-3348ccd9f01a",
   "metadata": {},
   "outputs": [],
   "source": []
  },
  {
   "cell_type": "code",
   "execution_count": null,
   "id": "16a71789-646f-4543-a479-9c08dfe6f1f8",
   "metadata": {},
   "outputs": [],
   "source": []
  },
  {
   "cell_type": "code",
   "execution_count": null,
   "id": "07b23870-737d-43f8-9e02-43cd680d1edb",
   "metadata": {},
   "outputs": [],
   "source": []
  },
  {
   "cell_type": "code",
   "execution_count": null,
   "id": "58298ebe-b4ed-48f6-b2ca-89fcccee820f",
   "metadata": {},
   "outputs": [],
   "source": []
  },
  {
   "cell_type": "markdown",
   "id": "c1687f3e-26ec-4850-b41f-0743a3712466",
   "metadata": {},
   "source": [
    "## Footnotes"
   ]
  },
  {
   "cell_type": "markdown",
   "id": "7542a1a5-87a0-4f2e-ac4e-7f2d07bd16b5",
   "metadata": {},
   "source": [
    "<span id=\"fn1\"> 1. [Number of apps available in leading app stores as of 1st quarter 2021, Statista\n",
    "](https://www.statista.com/statistics/276623/number-of-apps-available-in-leading-app-stores/)</span>"
   ]
  },
  {
   "cell_type": "code",
   "execution_count": 20,
   "id": "81c48150-c31f-41ac-b338-075f2c76c0b6",
   "metadata": {},
   "outputs": [],
   "source": [
    "import pandas as pd\n",
    "app_data = pd.read_csv('AppleStore.csv')"
   ]
  },
  {
   "cell_type": "code",
   "execution_count": 21,
   "id": "894de384-d7fe-4295-a486-dcbc3a99c811",
   "metadata": {},
   "outputs": [
    {
     "name": "stdout",
     "output_type": "stream",
     "text": [
      "(7197, 16)\n"
     ]
    }
   ],
   "source": [
    "print(app_data.shape)"
   ]
  },
  {
   "cell_type": "code",
   "execution_count": 22,
   "id": "12ae112a-0061-4b97-9c43-51c01d663b3e",
   "metadata": {},
   "outputs": [
    {
     "name": "stdout",
     "output_type": "stream",
     "text": [
      "(7197, 16)\n"
     ]
    }
   ],
   "source": [
    "# reading in data as a url from NYC Open Data\n",
    "host = 'https://dq-content.s3.amazonaws.com/350/AppleStore.csv'\n",
    "\n",
    "# saving data as a pandas dataframe named 'building_footprints_csv'\n",
    "hate_Crimes = pd.read_csv(host)\n",
    "print(hate_Crimes.shape)"
   ]
  },
  {
   "cell_type": "code",
   "execution_count": 23,
   "id": "3a36eca0-a34d-4db8-aa8d-e91ddd6c022e",
   "metadata": {},
   "outputs": [
    {
     "data": {
      "text/html": [
       "<div>\n",
       "<style scoped>\n",
       "    .dataframe tbody tr th:only-of-type {\n",
       "        vertical-align: middle;\n",
       "    }\n",
       "\n",
       "    .dataframe tbody tr th {\n",
       "        vertical-align: top;\n",
       "    }\n",
       "\n",
       "    .dataframe thead th {\n",
       "        text-align: right;\n",
       "    }\n",
       "</style>\n",
       "<table border=\"1\" class=\"dataframe\">\n",
       "  <thead>\n",
       "    <tr style=\"text-align: right;\">\n",
       "      <th></th>\n",
       "      <th>id</th>\n",
       "      <th>track_name</th>\n",
       "      <th>size_bytes</th>\n",
       "      <th>currency</th>\n",
       "      <th>price</th>\n",
       "      <th>rating_count_tot</th>\n",
       "      <th>rating_count_ver</th>\n",
       "      <th>user_rating</th>\n",
       "      <th>user_rating_ver</th>\n",
       "      <th>ver</th>\n",
       "      <th>cont_rating</th>\n",
       "      <th>prime_genre</th>\n",
       "      <th>sup_devices.num</th>\n",
       "      <th>ipadSc_urls.num</th>\n",
       "      <th>lang.num</th>\n",
       "      <th>vpp_lic</th>\n",
       "    </tr>\n",
       "  </thead>\n",
       "  <tbody>\n",
       "    <tr>\n",
       "      <th>0</th>\n",
       "      <td>284882215</td>\n",
       "      <td>Facebook</td>\n",
       "      <td>389879808</td>\n",
       "      <td>USD</td>\n",
       "      <td>0.0</td>\n",
       "      <td>2974676</td>\n",
       "      <td>212</td>\n",
       "      <td>3.5</td>\n",
       "      <td>3.5</td>\n",
       "      <td>95.0</td>\n",
       "      <td>4+</td>\n",
       "      <td>Social Networking</td>\n",
       "      <td>37</td>\n",
       "      <td>1</td>\n",
       "      <td>29</td>\n",
       "      <td>1</td>\n",
       "    </tr>\n",
       "    <tr>\n",
       "      <th>1</th>\n",
       "      <td>389801252</td>\n",
       "      <td>Instagram</td>\n",
       "      <td>113954816</td>\n",
       "      <td>USD</td>\n",
       "      <td>0.0</td>\n",
       "      <td>2161558</td>\n",
       "      <td>1289</td>\n",
       "      <td>4.5</td>\n",
       "      <td>4.0</td>\n",
       "      <td>10.23</td>\n",
       "      <td>12+</td>\n",
       "      <td>Photo &amp; Video</td>\n",
       "      <td>37</td>\n",
       "      <td>0</td>\n",
       "      <td>29</td>\n",
       "      <td>1</td>\n",
       "    </tr>\n",
       "    <tr>\n",
       "      <th>2</th>\n",
       "      <td>529479190</td>\n",
       "      <td>Clash of Clans</td>\n",
       "      <td>116476928</td>\n",
       "      <td>USD</td>\n",
       "      <td>0.0</td>\n",
       "      <td>2130805</td>\n",
       "      <td>579</td>\n",
       "      <td>4.5</td>\n",
       "      <td>4.5</td>\n",
       "      <td>9.24.12</td>\n",
       "      <td>9+</td>\n",
       "      <td>Games</td>\n",
       "      <td>38</td>\n",
       "      <td>5</td>\n",
       "      <td>18</td>\n",
       "      <td>1</td>\n",
       "    </tr>\n",
       "    <tr>\n",
       "      <th>3</th>\n",
       "      <td>420009108</td>\n",
       "      <td>Temple Run</td>\n",
       "      <td>65921024</td>\n",
       "      <td>USD</td>\n",
       "      <td>0.0</td>\n",
       "      <td>1724546</td>\n",
       "      <td>3842</td>\n",
       "      <td>4.5</td>\n",
       "      <td>4.0</td>\n",
       "      <td>1.6.2</td>\n",
       "      <td>9+</td>\n",
       "      <td>Games</td>\n",
       "      <td>40</td>\n",
       "      <td>5</td>\n",
       "      <td>1</td>\n",
       "      <td>1</td>\n",
       "    </tr>\n",
       "    <tr>\n",
       "      <th>4</th>\n",
       "      <td>284035177</td>\n",
       "      <td>Pandora - Music &amp; Radio</td>\n",
       "      <td>130242560</td>\n",
       "      <td>USD</td>\n",
       "      <td>0.0</td>\n",
       "      <td>1126879</td>\n",
       "      <td>3594</td>\n",
       "      <td>4.0</td>\n",
       "      <td>4.5</td>\n",
       "      <td>8.4.1</td>\n",
       "      <td>12+</td>\n",
       "      <td>Music</td>\n",
       "      <td>37</td>\n",
       "      <td>4</td>\n",
       "      <td>1</td>\n",
       "      <td>1</td>\n",
       "    </tr>\n",
       "    <tr>\n",
       "      <th>...</th>\n",
       "      <td>...</td>\n",
       "      <td>...</td>\n",
       "      <td>...</td>\n",
       "      <td>...</td>\n",
       "      <td>...</td>\n",
       "      <td>...</td>\n",
       "      <td>...</td>\n",
       "      <td>...</td>\n",
       "      <td>...</td>\n",
       "      <td>...</td>\n",
       "      <td>...</td>\n",
       "      <td>...</td>\n",
       "      <td>...</td>\n",
       "      <td>...</td>\n",
       "      <td>...</td>\n",
       "      <td>...</td>\n",
       "    </tr>\n",
       "    <tr>\n",
       "      <th>7192</th>\n",
       "      <td>1170406182</td>\n",
       "      <td>Shark Boom - Challenge Friends with your Pet</td>\n",
       "      <td>245415936</td>\n",
       "      <td>USD</td>\n",
       "      <td>0.0</td>\n",
       "      <td>0</td>\n",
       "      <td>0</td>\n",
       "      <td>0.0</td>\n",
       "      <td>0.0</td>\n",
       "      <td>1.0.9</td>\n",
       "      <td>4+</td>\n",
       "      <td>Games</td>\n",
       "      <td>38</td>\n",
       "      <td>5</td>\n",
       "      <td>1</td>\n",
       "      <td>1</td>\n",
       "    </tr>\n",
       "    <tr>\n",
       "      <th>7193</th>\n",
       "      <td>1069830936</td>\n",
       "      <td>【謎解き】ヤミすぎ彼女からのメッセージ</td>\n",
       "      <td>16808960</td>\n",
       "      <td>USD</td>\n",
       "      <td>0.0</td>\n",
       "      <td>0</td>\n",
       "      <td>0</td>\n",
       "      <td>0.0</td>\n",
       "      <td>0.0</td>\n",
       "      <td>1.2</td>\n",
       "      <td>9+</td>\n",
       "      <td>Book</td>\n",
       "      <td>38</td>\n",
       "      <td>0</td>\n",
       "      <td>1</td>\n",
       "      <td>1</td>\n",
       "    </tr>\n",
       "    <tr>\n",
       "      <th>7194</th>\n",
       "      <td>1070052833</td>\n",
       "      <td>Go!Go!Cat!</td>\n",
       "      <td>91468800</td>\n",
       "      <td>USD</td>\n",
       "      <td>0.0</td>\n",
       "      <td>0</td>\n",
       "      <td>0</td>\n",
       "      <td>0.0</td>\n",
       "      <td>0.0</td>\n",
       "      <td>1.1.2</td>\n",
       "      <td>12+</td>\n",
       "      <td>Games</td>\n",
       "      <td>37</td>\n",
       "      <td>2</td>\n",
       "      <td>2</td>\n",
       "      <td>1</td>\n",
       "    </tr>\n",
       "    <tr>\n",
       "      <th>7195</th>\n",
       "      <td>1081295232</td>\n",
       "      <td>Suppin Detective: Expose their true visage!</td>\n",
       "      <td>83026944</td>\n",
       "      <td>USD</td>\n",
       "      <td>0.0</td>\n",
       "      <td>0</td>\n",
       "      <td>0</td>\n",
       "      <td>0.0</td>\n",
       "      <td>0.0</td>\n",
       "      <td>1.0.3</td>\n",
       "      <td>12+</td>\n",
       "      <td>Entertainment</td>\n",
       "      <td>40</td>\n",
       "      <td>0</td>\n",
       "      <td>1</td>\n",
       "      <td>1</td>\n",
       "    </tr>\n",
       "    <tr>\n",
       "      <th>7196</th>\n",
       "      <td>977965019</td>\n",
       "      <td>みんなのお弁当 by クックパッド ~お弁当をレシピ付きで記録・共有~</td>\n",
       "      <td>51174400</td>\n",
       "      <td>USD</td>\n",
       "      <td>0.0</td>\n",
       "      <td>0</td>\n",
       "      <td>0</td>\n",
       "      <td>0.0</td>\n",
       "      <td>0.0</td>\n",
       "      <td>1.4.0</td>\n",
       "      <td>4+</td>\n",
       "      <td>Food &amp; Drink</td>\n",
       "      <td>37</td>\n",
       "      <td>0</td>\n",
       "      <td>1</td>\n",
       "      <td>1</td>\n",
       "    </tr>\n",
       "  </tbody>\n",
       "</table>\n",
       "<p>7197 rows × 16 columns</p>\n",
       "</div>"
      ],
      "text/plain": [
       "              id                                    track_name  size_bytes  \\\n",
       "0      284882215                                      Facebook   389879808   \n",
       "1      389801252                                     Instagram   113954816   \n",
       "2      529479190                                Clash of Clans   116476928   \n",
       "3      420009108                                    Temple Run    65921024   \n",
       "4      284035177                       Pandora - Music & Radio   130242560   \n",
       "...          ...                                           ...         ...   \n",
       "7192  1170406182  Shark Boom - Challenge Friends with your Pet   245415936   \n",
       "7193  1069830936                           【謎解き】ヤミすぎ彼女からのメッセージ    16808960   \n",
       "7194  1070052833                                    Go!Go!Cat!    91468800   \n",
       "7195  1081295232   Suppin Detective: Expose their true visage!    83026944   \n",
       "7196   977965019           みんなのお弁当 by クックパッド ~お弁当をレシピ付きで記録・共有~    51174400   \n",
       "\n",
       "     currency  price  rating_count_tot  rating_count_ver  user_rating  \\\n",
       "0         USD    0.0           2974676               212          3.5   \n",
       "1         USD    0.0           2161558              1289          4.5   \n",
       "2         USD    0.0           2130805               579          4.5   \n",
       "3         USD    0.0           1724546              3842          4.5   \n",
       "4         USD    0.0           1126879              3594          4.0   \n",
       "...       ...    ...               ...               ...          ...   \n",
       "7192      USD    0.0                 0                 0          0.0   \n",
       "7193      USD    0.0                 0                 0          0.0   \n",
       "7194      USD    0.0                 0                 0          0.0   \n",
       "7195      USD    0.0                 0                 0          0.0   \n",
       "7196      USD    0.0                 0                 0          0.0   \n",
       "\n",
       "      user_rating_ver      ver cont_rating        prime_genre  \\\n",
       "0                 3.5     95.0          4+  Social Networking   \n",
       "1                 4.0    10.23         12+      Photo & Video   \n",
       "2                 4.5  9.24.12          9+              Games   \n",
       "3                 4.0    1.6.2          9+              Games   \n",
       "4                 4.5    8.4.1         12+              Music   \n",
       "...               ...      ...         ...                ...   \n",
       "7192              0.0    1.0.9          4+              Games   \n",
       "7193              0.0      1.2          9+               Book   \n",
       "7194              0.0    1.1.2         12+              Games   \n",
       "7195              0.0    1.0.3         12+      Entertainment   \n",
       "7196              0.0    1.4.0          4+       Food & Drink   \n",
       "\n",
       "      sup_devices.num  ipadSc_urls.num  lang.num  vpp_lic  \n",
       "0                  37                1        29        1  \n",
       "1                  37                0        29        1  \n",
       "2                  38                5        18        1  \n",
       "3                  40                5         1        1  \n",
       "4                  37                4         1        1  \n",
       "...               ...              ...       ...      ...  \n",
       "7192               38                5         1        1  \n",
       "7193               38                0         1        1  \n",
       "7194               37                2         2        1  \n",
       "7195               40                0         1        1  \n",
       "7196               37                0         1        1  \n",
       "\n",
       "[7197 rows x 16 columns]"
      ]
     },
     "execution_count": 23,
     "metadata": {},
     "output_type": "execute_result"
    }
   ],
   "source": [
    "app_data"
   ]
  },
  {
   "cell_type": "code",
   "execution_count": null,
   "id": "3cd4e08e-2ed3-4eae-8fff-c67bf41120a5",
   "metadata": {},
   "outputs": [],
   "source": []
  }
 ],
 "metadata": {
  "kernelspec": {
   "display_name": "Python 3 (ipykernel)",
   "language": "python",
   "name": "python3"
  },
  "language_info": {
   "codemirror_mode": {
    "name": "ipython",
    "version": 3
   },
   "file_extension": ".py",
   "mimetype": "text/x-python",
   "name": "python",
   "nbconvert_exporter": "python",
   "pygments_lexer": "ipython3",
   "version": "3.9.7"
  }
 },
 "nbformat": 4,
 "nbformat_minor": 5
}
