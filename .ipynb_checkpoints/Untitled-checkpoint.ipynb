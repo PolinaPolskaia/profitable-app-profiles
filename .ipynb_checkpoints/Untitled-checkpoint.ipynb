{
 "cells": [
  {
   "cell_type": "markdown",
   "id": "1f6d76fe-db23-4e5b-8422-b36ef10378c8",
   "metadata": {},
   "source": [
    "# Profitable App Profiles for the App Store and Google Play Markets"
   ]
  },
  {
   "cell_type": "markdown",
   "id": "b2a7abbf-41cb-4a5e-992f-bf022a4100fc",
   "metadata": {},
   "source": [
    "![Image](https://encrypted-tbn0.gstatic.com/images?q=tbn:ANd9GcTZMG2LTP5xD1lZ9SxeiWuql2IJdUG9ct4Ukg&usqp=CAU)"
   ]
  },
  {
   "cell_type": "markdown",
   "id": "2b34237e-4f3a-4773-bd8f-f360166fe7ce",
   "metadata": {
    "tags": []
   },
   "source": [
    "Table of Contents\n",
    "=================\n",
    "\n",
    "   * [Getting Started](#chapter1)\n",
    "   * [2. Writing Out Data](#-2.-Writing-Out-Data)\n",
    "       * [2.1 Writing to a CSV file](##-2.1-Writing-to-a-CSV-file)\n",
    "       * [2.2 Writing to a Excel (xlsx) file](##-2.2-Writing-to-a-Excel-%28xlsx%29-file)\n",
    "       * [2.3 Writing to a JSON file](##-2.3-Writing-to-a-JSON-file)\n",
    "       \n",
    "       \n",
    "   * [3. Reading In Data from Local Folder](#-3.-Reading-In-Data-from-Local-Folder)\n",
    "       * [3.1 Reading in a CSV file](##-3.1-Reading-in-a-CSV-file)\n",
    "       * [3.2 Reading in an Excel file](##-3.2-Reading-in-an-Excel-file)\n",
    "       * [3.3 Reading in a JSON file](##-3.3-Reading-in-a-JSON-file)\n",
    "       \n",
    "       \n",
    "   * [4. Conclusion](#-4.-Conclusion))"
   ]
  },
  {
   "cell_type": "markdown",
   "id": "04148955-59de-4dcd-8922-c585cf665e17",
   "metadata": {},
   "source": [
    "***\n",
    "This is a project that covers:\n",
    "* The basics of programming in Python (arithmetical operations, variables, common data types, etc.)\n",
    "* List and for loops\n",
    "* Conditional statements\n",
    "* Dictionaries and frequency tables\n",
    "* Functions\n",
    "* Jupyter Notebook\n",
    "\n",
    "*We did not use Numpy or Pandas libraries here for a purpose.*\n",
    "***"
   ]
  },
  {
   "cell_type": "markdown",
   "id": "989db1bf-0cb6-4053-8400-b307bfb4c755",
   "metadata": {},
   "source": [
    "For this project, we'll pretend we're working as data analysts for a company that builds Android and iOS mobile apps. We make our apps available on Google Play and in the App Store.\n",
    "\n",
    "We only build apps that are free to download and install, and our main source of revenue consists of in-app ads. This means that the number of users of our apps determines our revenue for any given app — the more users who see and engage with the ads, the better. Our goal for this project is to analyze data to help our developers understand what type of apps are likely to attract more users.\n",
    "\n"
   ]
  },
  {
   "cell_type": "markdown",
   "id": "602d7fcf-fc62-457c-af6d-4b24ff36f99b",
   "metadata": {},
   "source": [
    "## 1. Reading in datasets as lists of lists <a class=\"anchor\" id=\"chapter1\"></a>"
   ]
  },
  {
   "cell_type": "markdown",
   "id": "43c67cf1-62c6-4184-a7cf-8d9eec30e036",
   "metadata": {},
   "source": [
    "As of 1st quarter of 2021, there were approximately 2 million iOS apps available on the App Store, and 3.5 million Android apps on Google Play[<sup>1</sup>](#fn1).\n",
    "\n"
   ]
  },
  {
   "cell_type": "code",
   "execution_count": null,
   "id": "5438b29f-e142-46a3-b850-7926f143b442",
   "metadata": {},
   "outputs": [],
   "source": []
  },
  {
   "cell_type": "code",
   "execution_count": null,
   "id": "8b88be13-4d7b-4773-a8e9-c33a46503c09",
   "metadata": {},
   "outputs": [],
   "source": []
  },
  {
   "cell_type": "code",
   "execution_count": null,
   "id": "739d07ef-d1d8-4665-a4d0-d88d7f33b843",
   "metadata": {},
   "outputs": [],
   "source": []
  },
  {
   "cell_type": "code",
   "execution_count": null,
   "id": "956c1cb5-9bc3-4920-a646-243aa565f10c",
   "metadata": {},
   "outputs": [],
   "source": []
  },
  {
   "cell_type": "code",
   "execution_count": null,
   "id": "366ebdc6-db1b-41b1-8f5e-d49ec5012c14",
   "metadata": {},
   "outputs": [],
   "source": []
  },
  {
   "cell_type": "code",
   "execution_count": null,
   "id": "cbfd35d4-779d-4794-86e5-78b713cf8d5d",
   "metadata": {},
   "outputs": [],
   "source": []
  },
  {
   "cell_type": "code",
   "execution_count": null,
   "id": "00ade9f0-4528-4d2a-985a-fce9b26a6b6b",
   "metadata": {},
   "outputs": [],
   "source": []
  },
  {
   "cell_type": "markdown",
   "id": "c1687f3e-26ec-4850-b41f-0743a3712466",
   "metadata": {},
   "source": [
    "## Footnotes"
   ]
  },
  {
   "cell_type": "markdown",
   "id": "7542a1a5-87a0-4f2e-ac4e-7f2d07bd16b5",
   "metadata": {},
   "source": [
    "<span id=\"fn1\"> 1. [Statista](https://www.statista.com/statistics/276623/number-of-apps-available-in-leading-app-stores/)</span>"
   ]
  },
  {
   "cell_type": "code",
   "execution_count": null,
   "id": "81c48150-c31f-41ac-b338-075f2c76c0b6",
   "metadata": {},
   "outputs": [],
   "source": []
  }
 ],
 "metadata": {
  "kernelspec": {
   "display_name": "Python 3 (ipykernel)",
   "language": "python",
   "name": "python3"
  },
  "language_info": {
   "codemirror_mode": {
    "name": "ipython",
    "version": 3
   },
   "file_extension": ".py",
   "mimetype": "text/x-python",
   "name": "python",
   "nbconvert_exporter": "python",
   "pygments_lexer": "ipython3",
   "version": "3.7.10"
  }
 },
 "nbformat": 4,
 "nbformat_minor": 5
}
