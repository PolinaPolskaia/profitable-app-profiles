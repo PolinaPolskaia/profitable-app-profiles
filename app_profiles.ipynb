{
 "cells": [
  {
   "cell_type": "markdown",
   "id": "1f6d76fe-db23-4e5b-8422-b36ef10378c8",
   "metadata": {},
   "source": [
    "# Profitable App Profiles for the App Store and Google Play Markets"
   ]
  },
  {
   "cell_type": "markdown",
   "id": "b2a7abbf-41cb-4a5e-992f-bf022a4100fc",
   "metadata": {},
   "source": [
    "![Image](https://encrypted-tbn0.gstatic.com/images?q=tbn:ANd9GcTZMG2LTP5xD1lZ9SxeiWuql2IJdUG9ct4Ukg&usqp=CAU)"
   ]
  },
  {
   "cell_type": "markdown",
   "id": "2b34237e-4f3a-4773-bd8f-f360166fe7ce",
   "metadata": {
    "tags": []
   },
   "source": [
    "Table of Contents\n",
    "=================\n",
    "\n",
    "   * [1. Project Overview](#chapter1)\n",
    "   * [2. Getting Started](#chapter2)\n",
    "       * [2.1 Importing relevant libraries and checking their versions](#chapter2.1)\n",
    "       * [2.2 Reading in datasets as lists of lists](#chapter2.2)\n",
    "       * [2.3 Exploring the datasets](#chapter2.3)\n",
    "       \n",
    "       \n",
    "   * [3. Reading In Data from Local Folder](#-3.-Reading-In-Data-from-Local-Folder)\n",
    "       * [3.1 Reading in a CSV file](##-3.1-Reading-in-a-CSV-file)\n",
    "       * [3.2 Reading in an Excel file](##-3.2-Reading-in-an-Excel-file)\n",
    "       * [3.3 Reading in a JSON file](##-3.3-Reading-in-a-JSON-file)\n",
    "       \n",
    "       \n",
    "   * [4. Conclusion](#-4.-Conclusion))"
   ]
  },
  {
   "cell_type": "markdown",
   "id": "007bd0a7-bdbf-4e45-a14b-20f2aaacb7ef",
   "metadata": {},
   "source": [
    "## 1. Project Overview <a class=\"anchor\" id=\"chapter1\"></a>"
   ]
  },
  {
   "cell_type": "markdown",
   "id": "989db1bf-0cb6-4053-8400-b307bfb4c755",
   "metadata": {},
   "source": [
    "This is a basic Python project that covers data cleaning and EDA. *We did not use Numpy or Pandas libraries here for a purpose.*\n",
    "\n",
    "For this project, we'll pretend we're working as data analysts for a company that builds Android and iOS mobile apps. We make our apps available on Google Play and in the App Store.\n",
    "\n",
    "We only build apps that are free to download and install, and our main source of revenue consists of in-app ads. This means that the number of users of our apps determines our revenue for any given app — the more users who see and engage with the ads, the better. Our goal for this project is to analyze data to help our developers understand what type of apps are likely to attract more users.\n",
    "\n"
   ]
  },
  {
   "cell_type": "markdown",
   "id": "6e0c5af9-cb06-4cc8-96ed-09abafaeed32",
   "metadata": {},
   "source": [
    "## 2. Getting started <a class=\"anchor\" id=\"chapter2\"></a>"
   ]
  },
  {
   "cell_type": "markdown",
   "id": "5735370c-6d5e-4887-a7de-97f16e00ddec",
   "metadata": {},
   "source": [
    "### 2.1 Importing relevant libraries and checking their versions <a class=\"anchor\" id=\"chapter2.1\"></a>"
   ]
  },
  {
   "cell_type": "code",
   "execution_count": 86,
   "id": "d9a36c77-a784-466a-a431-ee7ee6c9fa9f",
   "metadata": {},
   "outputs": [],
   "source": [
    "# Importing libraries\n",
    "import requests\n",
    "from csv import reader"
   ]
  },
  {
   "cell_type": "code",
   "execution_count": 87,
   "id": "eab37ba2-8ee8-4873-b9fc-17d68eb6ad82",
   "metadata": {},
   "outputs": [
    {
     "name": "stdout",
     "output_type": "stream",
     "text": [
      "The watermark extension is already loaded. To reload it, use:\n",
      "  %reload_ext watermark\n",
      "Python implementation: CPython\n",
      "Python version       : 3.7.10\n",
      "IPython version      : 7.29.0\n",
      "\n",
      "requests: 2.26.0\n",
      "csv     : 1.0\n",
      "\n"
     ]
    }
   ],
   "source": [
    "# Printing verions of Python modules and packages with watermark - the IPython magic extension.\n",
    "%load_ext watermark\n",
    "\n",
    "%watermark -v -p requests,csv"
   ]
  },
  {
   "cell_type": "markdown",
   "id": "602d7fcf-fc62-457c-af6d-4b24ff36f99b",
   "metadata": {},
   "source": [
    "### 2.2 Reading in datasets as lists of lists <a class=\"anchor\" id=\"chapter2.2\"></a>"
   ]
  },
  {
   "cell_type": "markdown",
   "id": "43c67cf1-62c6-4184-a7cf-8d9eec30e036",
   "metadata": {},
   "source": [
    "As of 1st quarter of 2021, there were approximately 2 million iOS apps available on the App Store, and 3.5 million Android apps on Google Play[<sup>1</sup>](#fn1).\n",
    "\n",
    "Collecting data for over 4 million apps requires a significant amount of time and money, so we'll try to analyze a sample of the data instead. To avoid spending resources on collecting new data ourselves, we should first try to see if we can find any relevant existing data at no cost. Luckily, here are two data sets that seem suitable for our goals:\n",
    "\n",
    "* [A dataset](https://www.kaggle.com/lava18/google-play-store-apps) containing data about approximately 10,000 Android apps from Google Play; the data was collected in August 2018. You can download the data set directly from this [link](https://dq-content.s3.amazonaws.com/350/googleplaystore.csv).\n",
    "* [A dataset](https://www.kaggle.com/ramamet4/app-store-apple-data-set-10k-apps) containing data about approximately 7,000 iOS apps from the App Store; the data was collected in July 2017. You can download the data set directly from this [link](https://dq-content.s3.amazonaws.com/350/AppleStore.csv)."
   ]
  },
  {
   "cell_type": "markdown",
   "id": "42cbae43-61a9-4239-836d-e14ad6450c06",
   "metadata": {},
   "source": [
    "Now, we will define a function `open_data` to import the two datasets we mentioned above and save them as *list of lists*."
   ]
  },
  {
   "cell_type": "code",
   "execution_count": 88,
   "id": "73976b66-c3ae-42ca-a942-a040a1814696",
   "metadata": {},
   "outputs": [],
   "source": [
    "# Saving links as variables\n",
    "url_android = 'https://dq-content.s3.amazonaws.com/350/googleplaystore.csv'\n",
    "url_ios = 'https://dq-content.s3.amazonaws.com/350/AppleStore.csv'\n",
    "\n",
    "# Defining the `open_data` function\n",
    "def open_data(filename):\n",
    "    \"\"\"\n",
    "    This function takes in a link to a csv file as input and \n",
    "    returns dataset in the list of lists format as output\n",
    "    \"\"\"\n",
    "    response=requests.get(filename)\n",
    "    text=response.iter_lines(decode_unicode='utf-8')\n",
    "    read_file=reader(text,delimiter=',')\n",
    "    return list(read_file)\n",
    "\n",
    "# Loading both datasets\n",
    "android = open_data(url_android)   \n",
    "android_header = android[0]\n",
    "android = android[1:]\n",
    "\n",
    "ios = open_data(url_ios) \n",
    "ios_header = ios[0]\n",
    "ios = ios[1:]"
   ]
  },
  {
   "cell_type": "markdown",
   "id": "f9c6a4f1-68d2-4cd2-a942-53f3d508f2c2",
   "metadata": {},
   "source": [
    "### 2.3 Exploring the datasets <a class=\"anchor\" id=\"chapter2.3\"></a>"
   ]
  },
  {
   "cell_type": "markdown",
   "id": "f5527ea4-9d16-488c-b9c1-f929c60d4a1b",
   "metadata": {},
   "source": [
    "To make it easier to explore the two datasets, we'll first write a function named `explore_data()` that we can use repeatedly to explore rows in a more readable way. We'll also add an option for our function to show the number of rows and columns for any dataset."
   ]
  },
  {
   "cell_type": "code",
   "execution_count": 89,
   "id": "ff906e7a-abef-49fc-b760-d10b8d295e92",
   "metadata": {},
   "outputs": [],
   "source": [
    "# Defining the `explore_data` function\n",
    "def explore_data(dataset, start, end, rows_and_columns=False):\n",
    "    \"\"\"\n",
    "    This function loops through the slice of a dataset, \n",
    "    and for each iteration, prints a row and adds a new line after that row, \n",
    "    and prints the number of rows and columns if `rows_and_columns` is `True`\n",
    "    \"\"\"\n",
    "    dataset_slice = dataset[start:end]    \n",
    "    for row in dataset_slice:\n",
    "        print(row)\n",
    "        print('\\n') # adds a new (empty) line after each row\n",
    "\n",
    "    if rows_and_columns:\n",
    "        print('Number of rows:', len(dataset))\n",
    "        print('Number of columns:', len(dataset[0]))"
   ]
  },
  {
   "cell_type": "code",
   "execution_count": 90,
   "id": "8b88be13-4d7b-4773-a8e9-c33a46503c09",
   "metadata": {},
   "outputs": [
    {
     "name": "stdout",
     "output_type": "stream",
     "text": [
      "['App', 'Category', 'Rating', 'Reviews', 'Size', 'Installs', 'Type', 'Price', 'Content Rating', 'Genres', 'Last Updated', 'Current Ver', 'Android Ver']\n",
      "\n",
      "\n",
      "['id', 'track_name', 'size_bytes', 'currency', 'price', 'rating_count_tot', 'rating_count_ver', 'user_rating', 'user_rating_ver', 'ver', 'cont_rating', 'prime_genre', 'sup_devices.num', 'ipadSc_urls.num', 'lang.num', 'vpp_lic']\n"
     ]
    }
   ],
   "source": [
    "# Exploring the columns names\n",
    "print(android_header)\n",
    "print('\\n')\n",
    "print(ios_header)"
   ]
  },
  {
   "cell_type": "code",
   "execution_count": 91,
   "id": "739d07ef-d1d8-4665-a4d0-d88d7f33b843",
   "metadata": {},
   "outputs": [
    {
     "name": "stdout",
     "output_type": "stream",
     "text": [
      "['Photo Editor & Candy Camera & Grid & ScrapBook', 'ART_AND_DESIGN', '4.1', '159', '19M', '10,000+', 'Free', '0', 'Everyone', 'Art & Design', 'January 7, 2018', '1.0.0', '4.0.3 and up']\n",
      "\n",
      "\n",
      "['Coloring book moana', 'ART_AND_DESIGN', '3.9', '967', '14M', '500,000+', 'Free', '0', 'Everyone', 'Art & Design;Pretend Play', 'January 15, 2018', '2.0.0', '4.0.3 and up']\n",
      "\n",
      "\n",
      "['U Launcher Lite â\\x80\\x93 FREE Live Cool Themes, Hide Apps', 'ART_AND_DESIGN', '4.7', '87510', '8.7M', '5,000,000+', 'Free', '0', 'Everyone', 'Art & Design', 'August 1, 2018', '1.2.4', '4.0.3 and up']\n",
      "\n",
      "\n",
      "Number of rows: 10855\n",
      "Number of columns: 13\n",
      "\n",
      "\n",
      "['284882215', 'Facebook', '389879808', 'USD', '0.0', '2974676', '212', '3.5', '3.5', '95.0', '4+', 'Social Networking', '37', '1', '29', '1']\n",
      "\n",
      "\n",
      "['389801252', 'Instagram', '113954816', 'USD', '0.0', '2161558', '1289', '4.5', '4.0', '10.23', '12+', 'Photo & Video', '37', '0', '29', '1']\n",
      "\n",
      "\n",
      "['529479190', 'Clash of Clans', '116476928', 'USD', '0.0', '2130805', '579', '4.5', '4.5', '9.24.12', '9+', 'Games', '38', '5', '18', '1']\n",
      "\n",
      "\n",
      "Number of rows: 7588\n",
      "Number of columns: 16\n"
     ]
    }
   ],
   "source": [
    "# Exploring the first three rows of each dataset\n",
    "explore_data(android, 0, 3, True)\n",
    "print('\\n')\n",
    "explore_data(ios, 0, 3, True)"
   ]
  },
  {
   "cell_type": "markdown",
   "id": "cc72b3e4-2a93-4366-b09d-8bfd397d747c",
   "metadata": {},
   "source": [
    "At a quick glance, the columns that might be useful for the purpose of our analysis are *'track_name'*, *'price'*, *'rating_count_tot'*, *'user_rating'*, and *'prime_genre'*."
   ]
  },
  {
   "cell_type": "markdown",
   "id": "01a7aeae-ec92-426c-a9fa-8e1a7cac59a8",
   "metadata": {},
   "source": [
    "The columns that might be useful for the purpose of our analysis are *'App'*, *'Category'*, *'Rating'*, *'Reviews'*, *'Installs'*, *'Type'*, *'Price'*, and *'Genres'*."
   ]
  },
  {
   "cell_type": "code",
   "execution_count": null,
   "id": "cbfd35d4-779d-4794-86e5-78b713cf8d5d",
   "metadata": {},
   "outputs": [],
   "source": []
  },
  {
   "cell_type": "code",
   "execution_count": null,
   "id": "00ade9f0-4528-4d2a-985a-fce9b26a6b6b",
   "metadata": {},
   "outputs": [],
   "source": []
  },
  {
   "cell_type": "markdown",
   "id": "c1687f3e-26ec-4850-b41f-0743a3712466",
   "metadata": {},
   "source": [
    "## Footnotes"
   ]
  },
  {
   "cell_type": "markdown",
   "id": "7542a1a5-87a0-4f2e-ac4e-7f2d07bd16b5",
   "metadata": {},
   "source": [
    "<span id=\"fn1\"> 1. [Number of apps available in leading app stores as of 1st quarter 2021, Statista\n",
    "](https://www.statista.com/statistics/276623/number-of-apps-available-in-leading-app-stores/)</span>"
   ]
  },
  {
   "cell_type": "code",
   "execution_count": null,
   "id": "81c48150-c31f-41ac-b338-075f2c76c0b6",
   "metadata": {},
   "outputs": [],
   "source": []
  }
 ],
 "metadata": {
  "kernelspec": {
   "display_name": "Python 3 (ipykernel)",
   "language": "python",
   "name": "python3"
  },
  "language_info": {
   "codemirror_mode": {
    "name": "ipython",
    "version": 3
   },
   "file_extension": ".py",
   "mimetype": "text/x-python",
   "name": "python",
   "nbconvert_exporter": "python",
   "pygments_lexer": "ipython3",
   "version": "3.7.10"
  }
 },
 "nbformat": 4,
 "nbformat_minor": 5
}
